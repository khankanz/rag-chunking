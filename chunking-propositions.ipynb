{
 "cells": [
  {
   "cell_type": "markdown",
   "metadata": {},
   "source": [
    "# Chunking via GPT4; Propositions"
   ]
  },
  {
   "cell_type": "markdown",
   "metadata": {},
   "source": [
    "Raw data that has been broken down into *propositins* via GPT4 prompt; the goal here is to either use an internal 200+ param model to create this 45k dataset for Flan-T5 training OR find a public dataset ~ 46k reports and what not; must be more than just discharge summaries AND use GPT4 to create Propositionizer. "
   ]
  },
  {
   "cell_type": "code",
   "execution_count": 1,
   "metadata": {},
   "outputs": [],
   "source": [
    "rpt_progress = [\n",
    "  \"The patient's name is Jordan M.\",\n",
    "  \"The date of the progress note is June 2, 2025.\",\n",
    "  \"The progress note was authored by Dr. A. Patel.\",\n",
    "  \"Dr. A. Patel is a psychiatry resident.\",\n",
    "  \"Jordan M. reported feeling 'a little more steady' on June 2, 2025.\",\n",
    "  \"Jordan M. shared that writing in their journal has helped organize thoughts.\",\n",
    "  \"Jordan M. shared that writing in their journal has reduced anxiety.\",\n",
    "  \"Jordan M. expressed nervousness about returning home.\",\n",
    "  \"Jordan M. acknowledged that the outpatient plan is 'a good next step.'\",\n",
    "  \"Jordan M. was alert and oriented to person, place, and time.\",\n",
    "  \"Jordan M.'s affect was brighter than on previous days.\",\n",
    "  \"Jordan M. was not in acute distress on June 2, 2025.\",\n",
    "  \"Jordan M. engaged actively in the morning CBT group.\",\n",
    "  \"Jordan M. offered supportive comments to peers during the CBT group.\",\n",
    "  \"Jordan M.'s mood appeared improved on June 2, 2025.\",\n",
    "  \"Jordan M. showed increased motivation on June 2, 2025.\",\n",
    "  \"Jordan M. showed increased insight on June 2, 2025.\",\n",
    "  \"Jordan M. did not report suicidal ideation on June 2, 2025.\",\n",
    "  \"Jordan M. showed a good response to sertraline.\",\n",
    "  \"The treatment plan includes continuing sertraline at 100mg daily.\",\n",
    "  \"The treatment plan includes encouraging Jordan M. to use journaling as a coping strategy.\",\n",
    "  \"The treatment plan includes revisiting discharge planning on June 3, 2025.\"\n",
    "]"
   ]
  },
  {
   "cell_type": "code",
   "execution_count": 2,
   "metadata": {},
   "outputs": [],
   "source": [
    "rpt_referral = [\n",
    "  \"The patient's name is Jordan M.\",\n",
    "  \"The date of the referral note is June 3, 2025.\",\n",
    "  \"The referring clinician is Dr. A. Patel.\",\n",
    "  \"Jordan M. was referred to the SunnyCare Outpatient Mental Health Program – CBT Track.\",\n",
    "  \"Jordan M. is being discharged following stabilization.\",\n",
    "  \"Jordan M.'s stabilization followed a suicide attempt.\",\n",
    "  \"Jordan M.'s suicide attempt was related to depressive symptoms.\",\n",
    "  \"Jordan M.'s suicide attempt was related to recent psychosocial stressors.\",\n",
    "  \"Jordan M. showed a positive response to inpatient treatment.\",\n",
    "  \"Jordan M. expressed motivation to continue structured therapy.\",\n",
    "  \"Weekly Cognitive Behavioral Therapy (CBT) sessions were requested for Jordan M.\",\n",
    "  \"Psychiatric follow-up for medication management was requested for Jordan M.\",\n",
    "  \"Case management support was requested for Jordan M., if available.\",\n",
    "  \"Jordan M. has been diagnosed with Major Depressive Disorder.\",\n",
    "  \"The Major Depressive Disorder diagnosed in Jordan M. is recurrent.\",\n",
    "  \"The Major Depressive Disorder diagnosed in Jordan M. is moderate in severity.\",\n",
    "  \"Jordan M. is currently prescribed sertraline 100mg daily.\",\n",
    "  \"Jordan M. engages well in group therapy.\",\n",
    "  \"Jordan M. uses journaling as a coping skill.\",\n",
    "  \"Jordan M.'s initial intake appointment is scheduled for June 10, 2025 at 2:00 PM.\",\n",
    "  \"Jordan M. has been provided with contact details for the intake appointment.\",\n",
    "  \"Jordan M. has been provided with a calendar reminder for the intake appointment.\"\n",
    "]\n"
   ]
  },
  {
   "cell_type": "code",
   "execution_count": 3,
   "metadata": {},
   "outputs": [],
   "source": [
    "rpt_discharge = [\n",
    "  \"The patient's name is Jordan M.\",\n",
    "  \"Jordan M. is 29 years old.\",\n",
    "  \"Jordan M. was admitted to the hospital on May 28, 2025.\",\n",
    "  \"Jordan M. was discharged from the hospital on June 4, 2025.\",\n",
    "  \"Jordan M. was diagnosed with Major Depressive Disorder.\",\n",
    "  \"The Major Depressive Disorder diagnosed in Jordan M. is recurrent.\",\n",
    "  \"The Major Depressive Disorder diagnosed in Jordan M. is moderate in severity.\",\n",
    "  \"The reason for Jordan M.'s admission was a suicide attempt by overdose.\",\n",
    "  \"Jordan M.'s suicide attempt followed a recent job loss.\",\n",
    "  \"Jordan M.'s suicide attempt followed a period of social isolation.\",\n",
    "  \"Jordan M. engaged well with the inpatient care team.\",\n",
    "  \"Jordan M. participated in individual therapy during hospitalization.\",\n",
    "  \"Jordan M. participated in group therapy during hospitalization.\",\n",
    "  \"Jordan M. responded positively to medication adjustments.\",\n",
    "  \"Jordan M. was prescribed sertraline during hospitalization.\",\n",
    "  \"The dosage of sertraline for Jordan M. was titrated to 100mg.\",\n",
    "  \"Jordan M. showed increased insight into psychological triggers.\",\n",
    "  \"Jordan M. identified journaling as a helpful coping strategy.\",\n",
    "  \"Jordan M. identified walking as a helpful coping strategy.\",\n",
    "  \"Jordan M. has weekly contact with their sister.\",\n",
    "  \"Jordan M. expressed motivation to reconnect with a friend in the city.\",\n",
    "  \"Jordan M. was referred to an outpatient CBT program.\",\n",
    "  \"Jordan M.'s first outpatient CBT appointment is scheduled for June 10.\",\n",
    "  \"Jordan M.'s safety plan was reviewed.\",\n",
    "  \"Jordan M.'s safety plan was shared.\",\n",
    "  \"Jordan M. received a crisis line contact card.\",\n",
    "  \"Jordan M. was provided with discharge medications for 30 days.\",\n",
    "  \"Jordan M. shared insightful reflections in the journaling group.\",\n",
    "  \"Jordan M. was kind toward peers during hospitalization.\",\n",
    "  \"Jordan M. was encouraging toward peers during hospitalization.\",\n",
    "  \"Jordan M. expressed a clear desire to build a routine.\",\n",
    "  \"Jordan M. expressed a clear desire to return to part-time work.\",\n",
    "  \"Jordan M.'s preferred name is Jordan.\",\n",
    "  \"Jordan M.'s pronouns are they/them.\"\n",
    "]"
   ]
  },
  {
   "cell_type": "markdown",
   "metadata": {},
   "source": [
    "This is a placeholder for any kind of storage i.e. SQLite"
   ]
  },
  {
   "cell_type": "code",
   "execution_count": 4,
   "metadata": {},
   "outputs": [],
   "source": [
    "storage = []"
   ]
  },
  {
   "cell_type": "markdown",
   "metadata": {},
   "source": [
    "Let's create a `storage` and add our data to it"
   ]
  },
  {
   "cell_type": "code",
   "execution_count": 5,
   "metadata": {},
   "outputs": [],
   "source": [
    "def add_to_storage(pid, dt, rtype, store, chunks):\n",
    "    store += [{'pid': pid, 'report_date': dt, 'text': c, 'report_type': rtype, 'chunk_id': i}\n",
    "              for i, c in enumerate(chunks)]"
   ]
  },
  {
   "cell_type": "code",
   "execution_count": 6,
   "metadata": {},
   "outputs": [],
   "source": [
    "add_to_storage('Jordan', '2023-01-12', 'discharge_summary', storage, rpt_discharge)"
   ]
  },
  {
   "cell_type": "code",
   "execution_count": 7,
   "metadata": {},
   "outputs": [],
   "source": [
    "add_to_storage('Jordan', '2023-01-17', 'referral', storage, rpt_referral)"
   ]
  },
  {
   "cell_type": "code",
   "execution_count": 8,
   "metadata": {},
   "outputs": [],
   "source": [
    "add_to_storage('Jordan', '2023-02-10', 'progress_note', storage, rpt_progress)"
   ]
  },
  {
   "cell_type": "code",
   "execution_count": 9,
   "metadata": {},
   "outputs": [
    {
     "data": {
      "text/plain": [
       "[{'pid': 'Jordan',\n",
       "  'report_date': '2023-01-12',\n",
       "  'text': \"The patient's name is Jordan M.\",\n",
       "  'report_type': 'discharge_summary',\n",
       "  'chunk_id': 0},\n",
       " {'pid': 'Jordan',\n",
       "  'report_date': '2023-01-12',\n",
       "  'text': 'Jordan M. is 29 years old.',\n",
       "  'report_type': 'discharge_summary',\n",
       "  'chunk_id': 1},\n",
       " {'pid': 'Jordan',\n",
       "  'report_date': '2023-01-12',\n",
       "  'text': 'Jordan M. was admitted to the hospital on May 28, 2025.',\n",
       "  'report_type': 'discharge_summary',\n",
       "  'chunk_id': 2},\n",
       " {'pid': 'Jordan',\n",
       "  'report_date': '2023-01-12',\n",
       "  'text': 'Jordan M. was discharged from the hospital on June 4, 2025.',\n",
       "  'report_type': 'discharge_summary',\n",
       "  'chunk_id': 3},\n",
       " {'pid': 'Jordan',\n",
       "  'report_date': '2023-01-12',\n",
       "  'text': 'Jordan M. was diagnosed with Major Depressive Disorder.',\n",
       "  'report_type': 'discharge_summary',\n",
       "  'chunk_id': 4}]"
      ]
     },
     "execution_count": 9,
     "metadata": {},
     "output_type": "execute_result"
    }
   ],
   "source": [
    "storage[:5]"
   ]
  },
  {
   "cell_type": "markdown",
   "metadata": {},
   "source": [
    "## BM25"
   ]
  },
  {
   "cell_type": "markdown",
   "metadata": {},
   "source": [
    "Why BM25? Cool, storage exists now but we should add an attribute called `bm25`. Wrong. We need to build a seperate index for all docs + some way to search bm25 index. We have a 1:1 relationship between index of match in bm25 index and store"
   ]
  },
  {
   "cell_type": "code",
   "execution_count": 10,
   "metadata": {},
   "outputs": [],
   "source": [
    "from rank_bm25 import BM25Okapi"
   ]
  },
  {
   "cell_type": "code",
   "execution_count": 11,
   "metadata": {},
   "outputs": [],
   "source": [
    "def build_bm25(store): return BM25Okapi(s['text'].split() for s in store)"
   ]
  },
  {
   "cell_type": "code",
   "execution_count": 12,
   "metadata": {},
   "outputs": [
    {
     "data": {
      "text/plain": [
       "<rank_bm25.BM25Okapi at 0x7fd0f7b9ffd0>"
      ]
     },
     "execution_count": 12,
     "metadata": {},
     "output_type": "execute_result"
    }
   ],
   "source": [
    "bm25_index = build_bm25(storage) ; bm25_index"
   ]
  },
  {
   "cell_type": "code",
   "execution_count": 13,
   "metadata": {},
   "outputs": [],
   "source": [
    "def search_bm25(query, store, bm25, k=5):\n",
    "    q_tok = query.split()\n",
    "    scores = bm25.get_scores(q_tok)\n",
    "    topk = sorted(range(len(scores)), key=lambda i: scores[i], reverse=True)[:k]\n",
    "    return [store[i] for i in topk]"
   ]
  },
  {
   "cell_type": "markdown",
   "metadata": {},
   "source": [
    "## Query Expansion"
   ]
  },
  {
   "cell_type": "markdown",
   "metadata": {},
   "source": [
    "Given user query to GPT4 *User Query:* `When was the patient diagnosed and what with?` we can convert it to the following more 'aligned' queries:\n",
    "\n",
    "```[\n",
    "  \"When was the patient diagnosed?\",\n",
    "  \"What was the patient's diagnosis?\"\n",
    "]\n",
    "```"
   ]
  },
  {
   "cell_type": "markdown",
   "metadata": {},
   "source": [
    "Let's just write a functionality for GPT4 API for the query expansion:"
   ]
  },
  {
   "cell_type": "code",
   "execution_count": 14,
   "metadata": {},
   "outputs": [],
   "source": [
    "import os"
   ]
  },
  {
   "cell_type": "code",
   "execution_count": 16,
   "metadata": {},
   "outputs": [],
   "source": [
    "from openai import OpenAI\n",
    "import json\n",
    "import re"
   ]
  },
  {
   "cell_type": "code",
   "execution_count": 17,
   "metadata": {},
   "outputs": [],
   "source": [
    "client = OpenAI()"
   ]
  },
  {
   "cell_type": "code",
   "execution_count": 18,
   "metadata": {},
   "outputs": [],
   "source": [
    "def expand_query_gpt(query, model='gpt-4o'):\n",
    "    messages = [\n",
    "        {\n",
    "            \"role\": \"system\",\n",
    "            \"content\": (\n",
    "                \"You will be given a user query. Your task is to rewrite or expand the query so that it better matches \"\n",
    "                \"the structure of previously extracted propositions from clinical text. Follow these rules:\\n\\n\"\n",
    "                \"- Split compound or complex questions into simple, focused questions.\\n\"\n",
    "                \"- Maintain the original phrasing from the input whenever possible.\\n\"\n",
    "                \"- Replace pronouns or vague terms (e.g., they, it, this) with explicit noun phrases based on the context implied by the query.\\n\"\n",
    "                \"- Add minimal clarifying context so that each question can be understood independently (i.e., decontextualize it).\\n\\n\"\n",
    "                \"Output a list of reformulated questions as strings in JSON format.\\n\\n\"\n",
    "                \"Do not generate answers. Only rewrite the query into a more proposition-aligned form.\"\n",
    "            )\n",
    "        },\n",
    "        {\"role\": \"user\", \"content\": f'User Query: \"{query}\"'}\n",
    "    ]\n",
    "\n",
    "    response = client.chat.completions.create(\n",
    "        model=model,\n",
    "        messages=messages,\n",
    "        temperature=0,\n",
    "    )\n",
    "\n",
    "    content = response.choices[0].message.content.strip()\n",
    "\n",
    "    if content.startswith(\"```\"):\n",
    "        content = re.sub(r\"^```(?:json)?\\s*|\\s*```$\", \"\", content.strip(), flags=re.DOTALL)\n",
    "\n",
    "    try:\n",
    "        return json.loads(content)\n",
    "    except json.JSONDecodeError:\n",
    "        print(\"Malformed JSON from model:\")\n",
    "        print(content)\n",
    "        return [query]"
   ]
  },
  {
   "cell_type": "markdown",
   "metadata": {},
   "source": [
    "This API costs $"
   ]
  },
  {
   "cell_type": "code",
   "execution_count": 19,
   "metadata": {},
   "outputs": [],
   "source": [
    "# expand_query_gpt(\"Does the patient have anything they're looking forward to?\")"
   ]
  },
  {
   "cell_type": "code",
   "execution_count": 20,
   "metadata": {},
   "outputs": [],
   "source": [
    "QUERY = [\"When was the patient diagnosed?\",\"What was the patient's diagnosis?\"]"
   ]
  },
  {
   "cell_type": "code",
   "execution_count": 21,
   "metadata": {},
   "outputs": [],
   "source": [
    "QUERY_SENTIMENT = [\"What is the patient's overall sentiment based on the clinical notes?\", \"Does the patient require an encouraging follow-up note?\",\n",
    "  \"Does the patient require a tough love approach in the follow-up note?\"]"
   ]
  },
  {
   "cell_type": "code",
   "execution_count": 22,
   "metadata": {},
   "outputs": [],
   "source": [
    "QUERY_FUTUREPLANS = ['Is the patient looking forward to any specific events?', 'Is the patient anticipating any particular activities?',\n",
    " 'Does the patient have any future plans they are excited about?']"
   ]
  },
  {
   "cell_type": "markdown",
   "metadata": {},
   "source": [
    "**Searching against BM25 index**"
   ]
  },
  {
   "cell_type": "code",
   "execution_count": 23,
   "metadata": {},
   "outputs": [],
   "source": [
    "res = [\n",
    "    {'query': q, 'chunk': chunk}\n",
    "    for q in QUERY_SENTIMENT\n",
    "    for chunk in search_bm25(q, storage, bm25_index, k=100)\n",
    "]"
   ]
  },
  {
   "cell_type": "code",
   "execution_count": 24,
   "metadata": {},
   "outputs": [
    {
     "data": {
      "text/plain": [
       "[{'query': \"What is the patient's overall sentiment based on the clinical notes?\",\n",
       "  'chunk': {'pid': 'Jordan',\n",
       "   'report_date': '2023-01-12',\n",
       "   'text': \"The patient's name is Jordan M.\",\n",
       "   'report_type': 'discharge_summary',\n",
       "   'chunk_id': 0}},\n",
       " {'query': \"What is the patient's overall sentiment based on the clinical notes?\",\n",
       "  'chunk': {'pid': 'Jordan',\n",
       "   'report_date': '2023-01-17',\n",
       "   'text': \"The patient's name is Jordan M.\",\n",
       "   'report_type': 'referral',\n",
       "   'chunk_id': 0}},\n",
       " {'query': \"What is the patient's overall sentiment based on the clinical notes?\",\n",
       "  'chunk': {'pid': 'Jordan',\n",
       "   'report_date': '2023-02-10',\n",
       "   'text': \"The patient's name is Jordan M.\",\n",
       "   'report_type': 'progress_note',\n",
       "   'chunk_id': 0}}]"
      ]
     },
     "execution_count": 24,
     "metadata": {},
     "output_type": "execute_result"
    }
   ],
   "source": [
    "res[:3]"
   ]
  },
  {
   "cell_type": "markdown",
   "metadata": {},
   "source": [
    "## ReRanking via Embedding Strategy"
   ]
  },
  {
   "cell_type": "code",
   "execution_count": 25,
   "metadata": {},
   "outputs": [],
   "source": [
    "from sklearn.metrics.pairwise import cosine_similarity\n",
    "import numpy as np"
   ]
  },
  {
   "cell_type": "markdown",
   "metadata": {},
   "source": [
    "Let's use Qwen2.5 0.6B; it's ranked fairly high on the HuggingFace MTEB Leaderboard for our initial embedding model"
   ]
  },
  {
   "cell_type": "code",
   "execution_count": 26,
   "metadata": {},
   "outputs": [],
   "source": [
    "from sentence_transformers import SentenceTransformer"
   ]
  },
  {
   "cell_type": "code",
   "execution_count": 27,
   "metadata": {},
   "outputs": [
    {
     "data": {
      "application/vnd.jupyter.widget-view+json": {
       "model_id": "866fa38c25be4166bc31d2157d5ddfef",
       "version_major": 2,
       "version_minor": 0
      },
      "text/plain": [
       "modules.json:   0%|          | 0.00/349 [00:00<?, ?B/s]"
      ]
     },
     "metadata": {},
     "output_type": "display_data"
    },
    {
     "data": {
      "application/vnd.jupyter.widget-view+json": {
       "model_id": "3f1d44eb122c4489b671b910005c2493",
       "version_major": 2,
       "version_minor": 0
      },
      "text/plain": [
       "config_sentence_transformers.json:   0%|          | 0.00/215 [00:00<?, ?B/s]"
      ]
     },
     "metadata": {},
     "output_type": "display_data"
    },
    {
     "data": {
      "application/vnd.jupyter.widget-view+json": {
       "model_id": "72eb3a74aa934d69810c690f26a2fbb9",
       "version_major": 2,
       "version_minor": 0
      },
      "text/plain": [
       "README.md:   0%|          | 0.00/16.3k [00:00<?, ?B/s]"
      ]
     },
     "metadata": {},
     "output_type": "display_data"
    },
    {
     "data": {
      "application/vnd.jupyter.widget-view+json": {
       "model_id": "046b5fdf4f6a4fdb84a481c3691dfe63",
       "version_major": 2,
       "version_minor": 0
      },
      "text/plain": [
       "config.json:   0%|          | 0.00/727 [00:00<?, ?B/s]"
      ]
     },
     "metadata": {},
     "output_type": "display_data"
    },
    {
     "data": {
      "application/vnd.jupyter.widget-view+json": {
       "model_id": "cf8e37e780204d0a851f8de76f7ff490",
       "version_major": 2,
       "version_minor": 0
      },
      "text/plain": [
       "model.safetensors:   0%|          | 0.00/1.19G [00:00<?, ?B/s]"
      ]
     },
     "metadata": {},
     "output_type": "display_data"
    },
    {
     "data": {
      "application/vnd.jupyter.widget-view+json": {
       "model_id": "85cf9d2f54a84955a33a246cdf661ad7",
       "version_major": 2,
       "version_minor": 0
      },
      "text/plain": [
       "tokenizer_config.json:   0%|          | 0.00/9.71k [00:00<?, ?B/s]"
      ]
     },
     "metadata": {},
     "output_type": "display_data"
    },
    {
     "data": {
      "application/vnd.jupyter.widget-view+json": {
       "model_id": "b6bfacda3e1e4ce2a0a0ee15d2c99649",
       "version_major": 2,
       "version_minor": 0
      },
      "text/plain": [
       "vocab.json:   0%|          | 0.00/2.78M [00:00<?, ?B/s]"
      ]
     },
     "metadata": {},
     "output_type": "display_data"
    },
    {
     "data": {
      "application/vnd.jupyter.widget-view+json": {
       "model_id": "1b40d1b802c142c8bea1a19058ab397c",
       "version_major": 2,
       "version_minor": 0
      },
      "text/plain": [
       "merges.txt:   0%|          | 0.00/1.67M [00:00<?, ?B/s]"
      ]
     },
     "metadata": {},
     "output_type": "display_data"
    },
    {
     "data": {
      "application/vnd.jupyter.widget-view+json": {
       "model_id": "7bd339b402fb4501a26d594f00b6fdb6",
       "version_major": 2,
       "version_minor": 0
      },
      "text/plain": [
       "tokenizer.json:   0%|          | 0.00/11.4M [00:00<?, ?B/s]"
      ]
     },
     "metadata": {},
     "output_type": "display_data"
    },
    {
     "data": {
      "application/vnd.jupyter.widget-view+json": {
       "model_id": "0903afb4c3b0450999d01346cdba37cb",
       "version_major": 2,
       "version_minor": 0
      },
      "text/plain": [
       "config.json:   0%|          | 0.00/313 [00:00<?, ?B/s]"
      ]
     },
     "metadata": {},
     "output_type": "display_data"
    }
   ],
   "source": [
    "qwen_embed = SentenceTransformer(\"Qwen/Qwen3-Embedding-0.6B\")"
   ]
  },
  {
   "cell_type": "code",
   "execution_count": 28,
   "metadata": {},
   "outputs": [],
   "source": [
    "def embed_texts(texts, is_query=False):\n",
    "    if is_query: return qwen_embed.encode(texts, prompt_name=\"query\")\n",
    "    return qwen_embed.encode(texts)"
   ]
  },
  {
   "cell_type": "code",
   "execution_count": 29,
   "metadata": {},
   "outputs": [],
   "source": [
    "def rerank(query, chunks, top_k=10):\n",
    "    qv = embed_texts([query], is_query=True)[0]\n",
    "    doc_vecs = embed_texts([c['chunk']['text'] for c in chunks], is_query=False)\n",
    "    sims = cosine_similarity([qv], doc_vecs)[0]\n",
    "    idxs = np.argsort(sims)[-top_k:][::-1]\n",
    "    return [chunks[i] for i in idxs]"
   ]
  },
  {
   "cell_type": "code",
   "execution_count": 30,
   "metadata": {},
   "outputs": [],
   "source": [
    "reranked_chunks = []"
   ]
  },
  {
   "cell_type": "code",
   "execution_count": 31,
   "metadata": {},
   "outputs": [],
   "source": [
    "for q in QUERY_SENTIMENT:\n",
    "    res_q = [r for r in res if r['query'] == q] # filtering res for a given query, q\n",
    "    reranked_chunks += rerank(q, res_q, top_k=10)"
   ]
  },
  {
   "cell_type": "code",
   "execution_count": 32,
   "metadata": {},
   "outputs": [
    {
     "data": {
      "text/plain": [
       "[{'query': \"What is the patient's overall sentiment based on the clinical notes?\",\n",
       "  'chunk': {'pid': 'Jordan',\n",
       "   'report_date': '2023-01-17',\n",
       "   'text': 'Jordan M. showed a positive response to inpatient treatment.',\n",
       "   'report_type': 'referral',\n",
       "   'chunk_id': 8}},\n",
       " {'query': \"What is the patient's overall sentiment based on the clinical notes?\",\n",
       "  'chunk': {'pid': 'Jordan',\n",
       "   'report_date': '2023-01-12',\n",
       "   'text': 'Jordan M. responded positively to medication adjustments.',\n",
       "   'report_type': 'discharge_summary',\n",
       "   'chunk_id': 13}},\n",
       " {'query': \"What is the patient's overall sentiment based on the clinical notes?\",\n",
       "  'chunk': {'pid': 'Jordan',\n",
       "   'report_date': '2023-02-10',\n",
       "   'text': 'The progress note was authored by Dr. A. Patel.',\n",
       "   'report_type': 'progress_note',\n",
       "   'chunk_id': 2}},\n",
       " {'query': \"What is the patient's overall sentiment based on the clinical notes?\",\n",
       "  'chunk': {'pid': 'Jordan',\n",
       "   'report_date': '2023-01-12',\n",
       "   'text': 'Jordan M. engaged well with the inpatient care team.',\n",
       "   'report_type': 'discharge_summary',\n",
       "   'chunk_id': 10}},\n",
       " {'query': \"What is the patient's overall sentiment based on the clinical notes?\",\n",
       "  'chunk': {'pid': 'Jordan',\n",
       "   'report_date': '2023-01-12',\n",
       "   'text': 'Jordan M. was encouraging toward peers during hospitalization.',\n",
       "   'report_type': 'discharge_summary',\n",
       "   'chunk_id': 29}},\n",
       " {'query': \"What is the patient's overall sentiment based on the clinical notes?\",\n",
       "  'chunk': {'pid': 'Jordan',\n",
       "   'report_date': '2023-01-12',\n",
       "   'text': 'Jordan M. was kind toward peers during hospitalization.',\n",
       "   'report_type': 'discharge_summary',\n",
       "   'chunk_id': 28}},\n",
       " {'query': \"What is the patient's overall sentiment based on the clinical notes?\",\n",
       "  'chunk': {'pid': 'Jordan',\n",
       "   'report_date': '2023-01-12',\n",
       "   'text': \"The patient's name is Jordan M.\",\n",
       "   'report_type': 'discharge_summary',\n",
       "   'chunk_id': 0}},\n",
       " {'query': \"What is the patient's overall sentiment based on the clinical notes?\",\n",
       "  'chunk': {'pid': 'Jordan',\n",
       "   'report_date': '2023-01-17',\n",
       "   'text': \"The patient's name is Jordan M.\",\n",
       "   'report_type': 'referral',\n",
       "   'chunk_id': 0}},\n",
       " {'query': \"What is the patient's overall sentiment based on the clinical notes?\",\n",
       "  'chunk': {'pid': 'Jordan',\n",
       "   'report_date': '2023-02-10',\n",
       "   'text': \"The patient's name is Jordan M.\",\n",
       "   'report_type': 'progress_note',\n",
       "   'chunk_id': 0}},\n",
       " {'query': \"What is the patient's overall sentiment based on the clinical notes?\",\n",
       "  'chunk': {'pid': 'Jordan',\n",
       "   'report_date': '2023-01-17',\n",
       "   'text': 'Jordan M. expressed motivation to continue structured therapy.',\n",
       "   'report_type': 'referral',\n",
       "   'chunk_id': 9}},\n",
       " {'query': 'Does the patient require an encouraging follow-up note?',\n",
       "  'chunk': {'pid': 'Jordan',\n",
       "   'report_date': '2023-01-17',\n",
       "   'text': 'Psychiatric follow-up for medication management was requested for Jordan M.',\n",
       "   'report_type': 'referral',\n",
       "   'chunk_id': 11}},\n",
       " {'query': 'Does the patient require an encouraging follow-up note?',\n",
       "  'chunk': {'pid': 'Jordan',\n",
       "   'report_date': '2023-02-10',\n",
       "   'text': 'The treatment plan includes revisiting discharge planning on June 3, 2025.',\n",
       "   'report_type': 'progress_note',\n",
       "   'chunk_id': 21}},\n",
       " {'query': 'Does the patient require an encouraging follow-up note?',\n",
       "  'chunk': {'pid': 'Jordan',\n",
       "   'report_date': '2023-01-12',\n",
       "   'text': 'Jordan M. was encouraging toward peers during hospitalization.',\n",
       "   'report_type': 'discharge_summary',\n",
       "   'chunk_id': 29}},\n",
       " {'query': 'Does the patient require an encouraging follow-up note?',\n",
       "  'chunk': {'pid': 'Jordan',\n",
       "   'report_date': '2023-01-17',\n",
       "   'text': 'The date of the referral note is June 3, 2025.',\n",
       "   'report_type': 'referral',\n",
       "   'chunk_id': 1}},\n",
       " {'query': 'Does the patient require an encouraging follow-up note?',\n",
       "  'chunk': {'pid': 'Jordan',\n",
       "   'report_date': '2023-01-12',\n",
       "   'text': 'Jordan M. responded positively to medication adjustments.',\n",
       "   'report_type': 'discharge_summary',\n",
       "   'chunk_id': 13}},\n",
       " {'query': 'Does the patient require an encouraging follow-up note?',\n",
       "  'chunk': {'pid': 'Jordan',\n",
       "   'report_date': '2023-01-12',\n",
       "   'text': 'Jordan M. was provided with discharge medications for 30 days.',\n",
       "   'report_type': 'discharge_summary',\n",
       "   'chunk_id': 26}},\n",
       " {'query': 'Does the patient require an encouraging follow-up note?',\n",
       "  'chunk': {'pid': 'Jordan',\n",
       "   'report_date': '2023-01-17',\n",
       "   'text': 'Jordan M. has been provided with a calendar reminder for the intake appointment.',\n",
       "   'report_type': 'referral',\n",
       "   'chunk_id': 21}},\n",
       " {'query': 'Does the patient require an encouraging follow-up note?',\n",
       "  'chunk': {'pid': 'Jordan',\n",
       "   'report_date': '2023-02-10',\n",
       "   'text': \"Jordan M. acknowledged that the outpatient plan is 'a good next step.'\",\n",
       "   'report_type': 'progress_note',\n",
       "   'chunk_id': 8}},\n",
       " {'query': 'Does the patient require an encouraging follow-up note?',\n",
       "  'chunk': {'pid': 'Jordan',\n",
       "   'report_date': '2023-01-17',\n",
       "   'text': 'Jordan M. is being discharged following stabilization.',\n",
       "   'report_type': 'referral',\n",
       "   'chunk_id': 4}},\n",
       " {'query': 'Does the patient require an encouraging follow-up note?',\n",
       "  'chunk': {'pid': 'Jordan',\n",
       "   'report_date': '2023-02-10',\n",
       "   'text': 'The date of the progress note is June 2, 2025.',\n",
       "   'report_type': 'progress_note',\n",
       "   'chunk_id': 1}},\n",
       " {'query': 'Does the patient require a tough love approach in the follow-up note?',\n",
       "  'chunk': {'pid': 'Jordan',\n",
       "   'report_date': '2023-01-17',\n",
       "   'text': 'Psychiatric follow-up for medication management was requested for Jordan M.',\n",
       "   'report_type': 'referral',\n",
       "   'chunk_id': 11}},\n",
       " {'query': 'Does the patient require a tough love approach in the follow-up note?',\n",
       "  'chunk': {'pid': 'Jordan',\n",
       "   'report_date': '2023-02-10',\n",
       "   'text': 'The treatment plan includes revisiting discharge planning on June 3, 2025.',\n",
       "   'report_type': 'progress_note',\n",
       "   'chunk_id': 21}},\n",
       " {'query': 'Does the patient require a tough love approach in the follow-up note?',\n",
       "  'chunk': {'pid': 'Jordan',\n",
       "   'report_date': '2023-02-10',\n",
       "   'text': 'The treatment plan includes encouraging Jordan M. to use journaling as a coping strategy.',\n",
       "   'report_type': 'progress_note',\n",
       "   'chunk_id': 20}},\n",
       " {'query': 'Does the patient require a tough love approach in the follow-up note?',\n",
       "  'chunk': {'pid': 'Jordan',\n",
       "   'report_date': '2023-01-12',\n",
       "   'text': 'Jordan M. responded positively to medication adjustments.',\n",
       "   'report_type': 'discharge_summary',\n",
       "   'chunk_id': 13}},\n",
       " {'query': 'Does the patient require a tough love approach in the follow-up note?',\n",
       "  'chunk': {'pid': 'Jordan',\n",
       "   'report_date': '2023-01-12',\n",
       "   'text': 'Jordan M. was encouraging toward peers during hospitalization.',\n",
       "   'report_type': 'discharge_summary',\n",
       "   'chunk_id': 29}},\n",
       " {'query': 'Does the patient require a tough love approach in the follow-up note?',\n",
       "  'chunk': {'pid': 'Jordan',\n",
       "   'report_date': '2023-01-12',\n",
       "   'text': 'Jordan M. was provided with discharge medications for 30 days.',\n",
       "   'report_type': 'discharge_summary',\n",
       "   'chunk_id': 26}},\n",
       " {'query': 'Does the patient require a tough love approach in the follow-up note?',\n",
       "  'chunk': {'pid': 'Jordan',\n",
       "   'report_date': '2023-01-12',\n",
       "   'text': 'Jordan M. was kind toward peers during hospitalization.',\n",
       "   'report_type': 'discharge_summary',\n",
       "   'chunk_id': 28}},\n",
       " {'query': 'Does the patient require a tough love approach in the follow-up note?',\n",
       "  'chunk': {'pid': 'Jordan',\n",
       "   'report_date': '2023-01-17',\n",
       "   'text': 'Jordan M. is being discharged following stabilization.',\n",
       "   'report_type': 'referral',\n",
       "   'chunk_id': 4}},\n",
       " {'query': 'Does the patient require a tough love approach in the follow-up note?',\n",
       "  'chunk': {'pid': 'Jordan',\n",
       "   'report_date': '2023-02-10',\n",
       "   'text': \"Jordan M. acknowledged that the outpatient plan is 'a good next step.'\",\n",
       "   'report_type': 'progress_note',\n",
       "   'chunk_id': 8}},\n",
       " {'query': 'Does the patient require a tough love approach in the follow-up note?',\n",
       "  'chunk': {'pid': 'Jordan',\n",
       "   'report_date': '2023-01-12',\n",
       "   'text': 'Jordan M. engaged well with the inpatient care team.',\n",
       "   'report_type': 'discharge_summary',\n",
       "   'chunk_id': 10}}]"
      ]
     },
     "execution_count": 32,
     "metadata": {},
     "output_type": "execute_result"
    }
   ],
   "source": [
    "reranked_chunks"
   ]
  },
  {
   "cell_type": "markdown",
   "metadata": {},
   "source": [
    "## Prompt Generation for LLM"
   ]
  },
  {
   "cell_type": "code",
   "execution_count": 33,
   "metadata": {},
   "outputs": [],
   "source": [
    "def format_prompt(reranked_chunks):\n",
    "    # build context passages\n",
    "    context_blocks = [f\"Query: {r['query']}\\nPassage: {r['chunk']['text']}\"\n",
    "    for r in reranked_chunks]\n",
    "\n",
    "    # unique queries in order\n",
    "    all_queries = list({r['query'] for r in reranked_chunks})\n",
    "\n",
    "    prompt = (\n",
    "        \"Refer to the passages below and answer the following question with just a few words.\\n\\n\"\n",
    "        + \"\\n\\n\".join(context_blocks)\n",
    "        + \"\\n\\nRefer to the context above and answer the following question with just a few words.\\n\"\n",
    "        + \"Question: \" + \" / \".join(all_queries)\n",
    "    )\n",
    "\n",
    "    return prompt"
   ]
  },
  {
   "cell_type": "code",
   "execution_count": 34,
   "metadata": {},
   "outputs": [],
   "source": [
    "# prompt = format_prompt(reranked_chunks) ; prompt"
   ]
  },
  {
   "cell_type": "code",
   "execution_count": 35,
   "metadata": {},
   "outputs": [],
   "source": [
    "def format_prompt_collapsed(reranked_chunks):\n",
    "    # Unique queries (preserve order)\n",
    "    seen, queries = set(), []\n",
    "    for r in reranked_chunks:\n",
    "        q = r['query']\n",
    "        if q not in seen:\n",
    "            seen.add(q)\n",
    "            queries.append(q)\n",
    "    \n",
    "    # Deduplicate chunks (optional)\n",
    "    seen_texts, context_blocks = set(), []\n",
    "    for r in reranked_chunks:\n",
    "        txt = r['chunk']['text']\n",
    "        if txt not in seen_texts:\n",
    "            seen_texts.add(txt)\n",
    "            context_blocks.append(f\"Passage: {txt}\")\n",
    "\n",
    "    prompt = (\n",
    "        \"Refer to the passages below and answer the following question in a short, informative sentence or two.\\n\\n\"\n",
    "        + \"\\n\\n\".join(context_blocks)\n",
    "        + \"\\n\\nQuestion: \" + \" / \".join(queries)\n",
    "    )\n",
    "    \n",
    "    return prompt"
   ]
  },
  {
   "cell_type": "code",
   "execution_count": 36,
   "metadata": {},
   "outputs": [
    {
     "data": {
      "text/plain": [
       "\"Refer to the passages below and answer the following question in a short, informative sentence or two.\\n\\nPassage: Jordan M. showed a positive response to inpatient treatment.\\n\\nPassage: Jordan M. responded positively to medication adjustments.\\n\\nPassage: The progress note was authored by Dr. A. Patel.\\n\\nPassage: Jordan M. engaged well with the inpatient care team.\\n\\nPassage: Jordan M. was encouraging toward peers during hospitalization.\\n\\nPassage: Jordan M. was kind toward peers during hospitalization.\\n\\nPassage: The patient's name is Jordan M.\\n\\nPassage: Jordan M. expressed motivation to continue structured therapy.\\n\\nPassage: Psychiatric follow-up for medication management was requested for Jordan M.\\n\\nPassage: The treatment plan includes revisiting discharge planning on June 3, 2025.\\n\\nPassage: The date of the referral note is June 3, 2025.\\n\\nPassage: Jordan M. was provided with discharge medications for 30 days.\\n\\nPassage: Jordan M. has been provided with a calendar reminder for the intake appointment.\\n\\nPassage: Jordan M. acknowledged that the outpatient plan is 'a good next step.'\\n\\nPassage: Jordan M. is being discharged following stabilization.\\n\\nPassage: The date of the progress note is June 2, 2025.\\n\\nPassage: The treatment plan includes encouraging Jordan M. to use journaling as a coping strategy.\\n\\nQuestion: What is the patient's overall sentiment based on the clinical notes? / Does the patient require an encouraging follow-up note? / Does the patient require a tough love approach in the follow-up note?\""
      ]
     },
     "execution_count": 36,
     "metadata": {},
     "output_type": "execute_result"
    }
   ],
   "source": [
    "prompt = format_prompt_collapsed(reranked_chunks) ; prompt"
   ]
  },
  {
   "cell_type": "markdown",
   "metadata": {},
   "source": [
    "**Are we getting all the passages in this prompt?!**"
   ]
  },
  {
   "cell_type": "code",
   "execution_count": null,
   "metadata": {},
   "outputs": [],
   "source": []
  },
  {
   "cell_type": "code",
   "execution_count": 38,
   "metadata": {},
   "outputs": [],
   "source": [
    "from transformers import AutoModelForCausalLM, AutoTokenizer\n",
    "import torch"
   ]
  },
  {
   "cell_type": "code",
   "execution_count": 39,
   "metadata": {},
   "outputs": [],
   "source": [
    "model_name = \"Qwen/Qwen2.5-32B-Instruct\""
   ]
  },
  {
   "cell_type": "code",
   "execution_count": 40,
   "metadata": {},
   "outputs": [
    {
     "data": {
      "application/vnd.jupyter.widget-view+json": {
       "model_id": "0afdfd61c6ab478999ee7cdd53a8b0e5",
       "version_major": 2,
       "version_minor": 0
      },
      "text/plain": [
       "config.json:   0%|          | 0.00/663 [00:00<?, ?B/s]"
      ]
     },
     "metadata": {},
     "output_type": "display_data"
    },
    {
     "data": {
      "application/vnd.jupyter.widget-view+json": {
       "model_id": "0791d42374804601b0f534b8100b3766",
       "version_major": 2,
       "version_minor": 0
      },
      "text/plain": [
       "model.safetensors.index.json:   0%|          | 0.00/63.2k [00:00<?, ?B/s]"
      ]
     },
     "metadata": {},
     "output_type": "display_data"
    },
    {
     "data": {
      "application/vnd.jupyter.widget-view+json": {
       "model_id": "409073c729f545eeb78cf259c805c0e5",
       "version_major": 2,
       "version_minor": 0
      },
      "text/plain": [
       "Fetching 17 files:   0%|          | 0/17 [00:00<?, ?it/s]"
      ]
     },
     "metadata": {},
     "output_type": "display_data"
    },
    {
     "data": {
      "application/vnd.jupyter.widget-view+json": {
       "model_id": "8f38bdf976054de788dba8dd1c9eba41",
       "version_major": 2,
       "version_minor": 0
      },
      "text/plain": [
       "model-00001-of-00017.safetensors:   0%|          | 0.00/3.92G [00:00<?, ?B/s]"
      ]
     },
     "metadata": {},
     "output_type": "display_data"
    },
    {
     "data": {
      "application/vnd.jupyter.widget-view+json": {
       "model_id": "0d8c4d8a6cfd416cac4b08d7800aed31",
       "version_major": 2,
       "version_minor": 0
      },
      "text/plain": [
       "model-00008-of-00017.safetensors:   0%|          | 0.00/3.90G [00:00<?, ?B/s]"
      ]
     },
     "metadata": {},
     "output_type": "display_data"
    },
    {
     "data": {
      "application/vnd.jupyter.widget-view+json": {
       "model_id": "a9581d19682c4deab61d260fa28d96fc",
       "version_major": 2,
       "version_minor": 0
      },
      "text/plain": [
       "model-00002-of-00017.safetensors:   0%|          | 0.00/3.90G [00:00<?, ?B/s]"
      ]
     },
     "metadata": {},
     "output_type": "display_data"
    },
    {
     "data": {
      "application/vnd.jupyter.widget-view+json": {
       "model_id": "3aac280c30d2454295589a86bec23851",
       "version_major": 2,
       "version_minor": 0
      },
      "text/plain": [
       "model-00004-of-00017.safetensors:   0%|          | 0.00/3.90G [00:00<?, ?B/s]"
      ]
     },
     "metadata": {},
     "output_type": "display_data"
    },
    {
     "data": {
      "application/vnd.jupyter.widget-view+json": {
       "model_id": "65a2005e08a34dcba0b3ce7d14accba2",
       "version_major": 2,
       "version_minor": 0
      },
      "text/plain": [
       "model-00006-of-00017.safetensors:   0%|          | 0.00/3.90G [00:00<?, ?B/s]"
      ]
     },
     "metadata": {},
     "output_type": "display_data"
    },
    {
     "data": {
      "application/vnd.jupyter.widget-view+json": {
       "model_id": "30e0527b2cc64328a0414d6d76a9ef43",
       "version_major": 2,
       "version_minor": 0
      },
      "text/plain": [
       "model-00003-of-00017.safetensors:   0%|          | 0.00/3.90G [00:00<?, ?B/s]"
      ]
     },
     "metadata": {},
     "output_type": "display_data"
    },
    {
     "data": {
      "application/vnd.jupyter.widget-view+json": {
       "model_id": "e458039c0c7e46ee8fd961cc40234bf7",
       "version_major": 2,
       "version_minor": 0
      },
      "text/plain": [
       "model-00007-of-00017.safetensors:   0%|          | 0.00/3.90G [00:00<?, ?B/s]"
      ]
     },
     "metadata": {},
     "output_type": "display_data"
    },
    {
     "data": {
      "application/vnd.jupyter.widget-view+json": {
       "model_id": "72871260f12e40c1a1753c02f2495ea5",
       "version_major": 2,
       "version_minor": 0
      },
      "text/plain": [
       "model-00005-of-00017.safetensors:   0%|          | 0.00/3.90G [00:00<?, ?B/s]"
      ]
     },
     "metadata": {},
     "output_type": "display_data"
    },
    {
     "data": {
      "application/vnd.jupyter.widget-view+json": {
       "model_id": "2abd52ea5ef6457b9e32f425563f4243",
       "version_major": 2,
       "version_minor": 0
      },
      "text/plain": [
       "model-00009-of-00017.safetensors:   0%|          | 0.00/3.90G [00:00<?, ?B/s]"
      ]
     },
     "metadata": {},
     "output_type": "display_data"
    },
    {
     "data": {
      "application/vnd.jupyter.widget-view+json": {
       "model_id": "e47b64ef8acf4bacb63e1f9f52a4b6c5",
       "version_major": 2,
       "version_minor": 0
      },
      "text/plain": [
       "model-00010-of-00017.safetensors:   0%|          | 0.00/3.90G [00:00<?, ?B/s]"
      ]
     },
     "metadata": {},
     "output_type": "display_data"
    },
    {
     "data": {
      "application/vnd.jupyter.widget-view+json": {
       "model_id": "4eb41d8b678d4094865fff7602ac32f7",
       "version_major": 2,
       "version_minor": 0
      },
      "text/plain": [
       "model-00011-of-00017.safetensors:   0%|          | 0.00/3.90G [00:00<?, ?B/s]"
      ]
     },
     "metadata": {},
     "output_type": "display_data"
    },
    {
     "data": {
      "application/vnd.jupyter.widget-view+json": {
       "model_id": "24c8fe2ce4bc4c74b8b21d48e7208203",
       "version_major": 2,
       "version_minor": 0
      },
      "text/plain": [
       "model-00012-of-00017.safetensors:   0%|          | 0.00/3.90G [00:00<?, ?B/s]"
      ]
     },
     "metadata": {},
     "output_type": "display_data"
    },
    {
     "data": {
      "application/vnd.jupyter.widget-view+json": {
       "model_id": "3f443f4e5da14063bfe9a9cc607bbcd0",
       "version_major": 2,
       "version_minor": 0
      },
      "text/plain": [
       "model-00013-of-00017.safetensors:   0%|          | 0.00/3.90G [00:00<?, ?B/s]"
      ]
     },
     "metadata": {},
     "output_type": "display_data"
    },
    {
     "data": {
      "application/vnd.jupyter.widget-view+json": {
       "model_id": "e2541c107f0b42e7b40e0a1fe7a35276",
       "version_major": 2,
       "version_minor": 0
      },
      "text/plain": [
       "model-00015-of-00017.safetensors:   0%|          | 0.00/3.90G [00:00<?, ?B/s]"
      ]
     },
     "metadata": {},
     "output_type": "display_data"
    },
    {
     "data": {
      "application/vnd.jupyter.widget-view+json": {
       "model_id": "e196f564801e410997bd803b5050a9da",
       "version_major": 2,
       "version_minor": 0
      },
      "text/plain": [
       "model-00014-of-00017.safetensors:   0%|          | 0.00/3.90G [00:00<?, ?B/s]"
      ]
     },
     "metadata": {},
     "output_type": "display_data"
    },
    {
     "data": {
      "application/vnd.jupyter.widget-view+json": {
       "model_id": "79b48b92b9dd45da81a32c96220c90b0",
       "version_major": 2,
       "version_minor": 0
      },
      "text/plain": [
       "model-00016-of-00017.safetensors:   0%|          | 0.00/3.90G [00:00<?, ?B/s]"
      ]
     },
     "metadata": {},
     "output_type": "display_data"
    },
    {
     "data": {
      "application/vnd.jupyter.widget-view+json": {
       "model_id": "a53c62e4d1054cf288ad11f5461493e8",
       "version_major": 2,
       "version_minor": 0
      },
      "text/plain": [
       "model-00017-of-00017.safetensors:   0%|          | 0.00/3.10G [00:00<?, ?B/s]"
      ]
     },
     "metadata": {},
     "output_type": "display_data"
    },
    {
     "data": {
      "application/vnd.jupyter.widget-view+json": {
       "model_id": "8c4df550095c42e6aaa10b9ea95fe12f",
       "version_major": 2,
       "version_minor": 0
      },
      "text/plain": [
       "Loading checkpoint shards:   0%|          | 0/17 [00:00<?, ?it/s]"
      ]
     },
     "metadata": {},
     "output_type": "display_data"
    },
    {
     "data": {
      "application/vnd.jupyter.widget-view+json": {
       "model_id": "1525e07c499a49e2bcfb47498ba86669",
       "version_major": 2,
       "version_minor": 0
      },
      "text/plain": [
       "generation_config.json:   0%|          | 0.00/242 [00:00<?, ?B/s]"
      ]
     },
     "metadata": {},
     "output_type": "display_data"
    },
    {
     "name": "stderr",
     "output_type": "stream",
     "text": [
      "Some parameters are on the meta device because they were offloaded to the cpu.\n"
     ]
    }
   ],
   "source": [
    "model = AutoModelForCausalLM.from_pretrained(model_name,torch_dtype=\"auto\",device_map=\"auto\")"
   ]
  },
  {
   "cell_type": "code",
   "execution_count": 41,
   "metadata": {},
   "outputs": [
    {
     "data": {
      "application/vnd.jupyter.widget-view+json": {
       "model_id": "00f5f19efe064e85bff2f15a98988eb1",
       "version_major": 2,
       "version_minor": 0
      },
      "text/plain": [
       "tokenizer_config.json:   0%|          | 0.00/7.30k [00:00<?, ?B/s]"
      ]
     },
     "metadata": {},
     "output_type": "display_data"
    },
    {
     "data": {
      "application/vnd.jupyter.widget-view+json": {
       "model_id": "8212ad8a0379450db9922be3ad844245",
       "version_major": 2,
       "version_minor": 0
      },
      "text/plain": [
       "vocab.json:   0%|          | 0.00/2.78M [00:00<?, ?B/s]"
      ]
     },
     "metadata": {},
     "output_type": "display_data"
    },
    {
     "data": {
      "application/vnd.jupyter.widget-view+json": {
       "model_id": "bd7a1ecf70844ffcbe86ad1a69edce08",
       "version_major": 2,
       "version_minor": 0
      },
      "text/plain": [
       "merges.txt:   0%|          | 0.00/1.67M [00:00<?, ?B/s]"
      ]
     },
     "metadata": {},
     "output_type": "display_data"
    },
    {
     "data": {
      "application/vnd.jupyter.widget-view+json": {
       "model_id": "497f465e96004d7dafd6e3b8fc73bd45",
       "version_major": 2,
       "version_minor": 0
      },
      "text/plain": [
       "tokenizer.json:   0%|          | 0.00/7.03M [00:00<?, ?B/s]"
      ]
     },
     "metadata": {},
     "output_type": "display_data"
    }
   ],
   "source": [
    "tokenizer = AutoTokenizer.from_pretrained(model_name)"
   ]
  },
  {
   "cell_type": "code",
   "execution_count": 42,
   "metadata": {},
   "outputs": [],
   "source": [
    "def ask_qwen(prompt, max_tokens=512):\n",
    "    msgs = [\n",
    "        {\"role\": \"system\", \"content\": \"You are Qwen, created by Alibaba Cloud. You are a helpful assistant.\"},\n",
    "        {\"role\": \"user\", \"content\": prompt}\n",
    "    ]\n",
    "    txt = tokenizer.apply_chat_template(msgs, tokenize=False, add_generation_prompt=True)\n",
    "    inputs = tokenizer([txt], return_tensors=\"pt\").to(model.device)\n",
    "    out = model.generate(**inputs, max_new_tokens=max_tokens)\n",
    "\n",
    "    # Trim prompt from output\n",
    "    trimmed = [o[len(i):] for i, o in zip(inputs.input_ids, out)]\n",
    "    return tokenizer.batch_decode(trimmed, skip_special_tokens=True)[0].strip()\n"
   ]
  },
  {
   "cell_type": "code",
   "execution_count": 43,
   "metadata": {},
   "outputs": [
    {
     "data": {
      "text/plain": [
       "'Based on the clinical notes, Jordan M. exhibits a positive sentiment and engagement with treatment, indicating that an encouraging follow-up note would be appropriate rather than a tough love approach.'"
      ]
     },
     "execution_count": 43,
     "metadata": {},
     "output_type": "execute_result"
    }
   ],
   "source": [
    "ask_qwen(prompt)"
   ]
  },
  {
   "cell_type": "markdown",
   "metadata": {},
   "source": [
    "## Results:"
   ]
  },
  {
   "cell_type": "markdown",
   "metadata": {},
   "source": [
    "**Is the patient looking forward to any specific events?', 'Is the patient anticipating any particular activities?','Does the patient have any future plans they are excited about?'**\n",
    "\n",
    "**Answer from 32B LLM**\n",
    "\n",
    "'Jordan M. is looking forward to the outpatient plan and is motivated to continue with structured therapy, indicating anticipation for these future activities.'"
   ]
  },
  {
   "cell_type": "markdown",
   "metadata": {},
   "source": []
  }
 ],
 "metadata": {
  "language_info": {
   "name": "python"
  }
 },
 "nbformat": 4,
 "nbformat_minor": 2
}
