{
 "cells": [
  {
   "cell_type": "markdown",
   "metadata": {},
   "source": [
    "# Update PII ds\n",
    "> urchade/synthetic-pii-ner-mistral-v1"
   ]
  },
  {
   "cell_type": "code",
   "execution_count": 1,
   "metadata": {},
   "outputs": [],
   "source": [
    "from datasets import load_dataset, Dataset\n",
    "import json\n",
    "from pathlib import Path"
   ]
  },
  {
   "cell_type": "code",
   "execution_count": 2,
   "metadata": {},
   "outputs": [
    {
     "data": {
      "text/plain": [
       "PosixPath('/teamspace/studios/this_studio/data')"
      ]
     },
     "execution_count": 2,
     "metadata": {},
     "output_type": "execute_result"
    }
   ],
   "source": [
    "DP = Path.cwd()/'data'; DP"
   ]
  },
  {
   "cell_type": "code",
   "execution_count": 3,
   "metadata": {},
   "outputs": [],
   "source": [
    "with open(DP/\"pii-mistral.json\") as f: data = json.load(f)"
   ]
  },
  {
   "cell_type": "code",
   "execution_count": 4,
   "metadata": {},
   "outputs": [
    {
     "name": "stdout",
     "output_type": "stream",
     "text": [
      "{'tokenized_text': ['Mamadou', 'Diop', ',', 'a', 'resident', 'of', 'Dakar', ',', 'is', 'a', 'regular', 'at', 'the', \"'\", 'Club', '54', \"'\", 'nightclub', 'located', 'at', '45', 'Rue', 'de', 'la', 'Liberté', '.', 'He', 'usually', 'arrives', 'around', 'midnight', 'and', 'often', 'leaves', 'around', '3', 'am', '.', 'Mamadou', \"'\", 's', 'ID', 'card', 'number', 'is', 'WS-123456789-1', ',', 'and', 'he', 'pays', 'for', 'his', 'drinks', 'with', 'a', 'credit', 'card', ':', '1234-5678-9012-3456', '.'], 'ner': [[0, 1, 'person'], [14, 15, 'nightclub'], [45, 45, 'ID card number'], [58, 58, 'credit card number']]}\n"
     ]
    }
   ],
   "source": [
    "print(data[0])"
   ]
  },
  {
   "cell_type": "code",
   "execution_count": 5,
   "metadata": {},
   "outputs": [
    {
     "data": {
      "text/plain": [
       "19635"
      ]
     },
     "execution_count": 5,
     "metadata": {},
     "output_type": "execute_result"
    }
   ],
   "source": [
    "len(data)"
   ]
  },
  {
   "cell_type": "markdown",
   "metadata": {},
   "source": [
    "Normalize each NER span into a dict for compatibility"
   ]
  },
  {
   "cell_type": "code",
   "execution_count": 6,
   "metadata": {},
   "outputs": [],
   "source": [
    "for sample in data:\n",
    "    sample[\"ner\"] = [\n",
    "        {\"start\": s, \"end\": e, \"label\": lbl}\n",
    "        for s, e, lbl in sample[\"ner\"]\n",
    "    ]"
   ]
  },
  {
   "cell_type": "code",
   "execution_count": 7,
   "metadata": {},
   "outputs": [],
   "source": [
    "from datasets import Features, Sequence, Value, Dataset\n",
    "\n",
    "features = Features({\n",
    "    \"tokenized_text\": Sequence(Value(\"string\")),\n",
    "    \"ner\": Sequence({\n",
    "        \"start\": Value(\"int64\"),\n",
    "        \"end\": Value(\"int64\"),\n",
    "        \"label\": Value(\"string\")\n",
    "    })\n",
    "})\n",
    "\n",
    "ds = Dataset.from_list(data, features=features)"
   ]
  },
  {
   "cell_type": "code",
   "execution_count": 8,
   "metadata": {},
   "outputs": [
    {
     "data": {
      "text/plain": [
       "Dataset({\n",
       "    features: ['tokenized_text', 'ner'],\n",
       "    num_rows: 19635\n",
       "})"
      ]
     },
     "execution_count": 8,
     "metadata": {},
     "output_type": "execute_result"
    }
   ],
   "source": [
    "ds"
   ]
  },
  {
   "cell_type": "markdown",
   "metadata": {},
   "source": [
    "Okay, we've established that this ds has non-ENG languaged, we need to join tokenized text and check for English, filter out the rest"
   ]
  },
  {
   "cell_type": "code",
   "execution_count": 9,
   "metadata": {},
   "outputs": [],
   "source": [
    "from langdetect import detect, DetectorFactory\n",
    "DetectorFactory.seed = 0\n",
    "def is_probably_english(text): return detect(text) == \"en\""
   ]
  },
  {
   "cell_type": "code",
   "execution_count": 10,
   "metadata": {},
   "outputs": [
    {
     "data": {
      "application/vnd.jupyter.widget-view+json": {
       "model_id": "1c08f9201a9b44338cb837476b80d645",
       "version_major": 2,
       "version_minor": 0
      },
      "text/plain": [
       "Filter:   0%|          | 0/19635 [00:00<?, ? examples/s]"
      ]
     },
     "metadata": {},
     "output_type": "display_data"
    }
   ],
   "source": [
    "ds = ds.filter(lambda x: is_probably_english(' '.join(x['tokenized_text'])))"
   ]
  },
  {
   "cell_type": "code",
   "execution_count": 11,
   "metadata": {},
   "outputs": [],
   "source": [
    "# Load span-based NER JSON into Hugging Face Dataset\n",
    "# Original JSON format:\n",
    "# {\n",
    "#   \"tokens\": [...],\n",
    "#   \"ner\": [[start_idx, end_idx, label], ...]\n",
    "# }\n",
    "\n",
    "# Step 1: Normalize each NER span into a dict for clarity and compatibility\n",
    "# → [start, end, label] → {\"start\": ..., \"end\": ..., \"label\": ...}\n",
    "\n",
    "# Step 2: Define Hugging Face `Features` schema with nested structure\n",
    "# → tokens: list of strings\n",
    "# → ner: list of {\"start\": int, \"end\": int, \"label\": str}\n",
    "\n",
    "# Step 3: Use `Dataset.from_list(data, features=features)` to load it cleanly"
   ]
  },
  {
   "cell_type": "markdown",
   "metadata": {},
   "source": [
    "Let's see what unique entities we have"
   ]
  },
  {
   "cell_type": "code",
   "execution_count": 12,
   "metadata": {},
   "outputs": [
    {
     "name": "stdout",
     "output_type": "stream",
     "text": [
      "CPU times: user 702 ms, sys: 4.02 ms, total: 706 ms\n",
      "Wall time: 705 ms\n"
     ]
    }
   ],
   "source": [
    "%%time\n",
    "unique_ents = list(set(label for sample in ds for label in sample['ner']['label']))"
   ]
  },
  {
   "cell_type": "code",
   "execution_count": 13,
   "metadata": {},
   "outputs": [
    {
     "data": {
      "text/plain": [
       "1747"
      ]
     },
     "execution_count": 13,
     "metadata": {},
     "output_type": "execute_result"
    }
   ],
   "source": [
    "len(unique_ents)"
   ]
  },
  {
   "cell_type": "code",
   "execution_count": 14,
   "metadata": {},
   "outputs": [
    {
     "data": {
      "text/plain": [
       "['vehicle', 'enrollment_date', 'student id number']"
      ]
     },
     "execution_count": 14,
     "metadata": {},
     "output_type": "execute_result"
    }
   ],
   "source": [
    "unique_ents[:3]"
   ]
  },
  {
   "cell_type": "markdown",
   "metadata": {},
   "source": [
    "**Accessing ents faster via indexing**: Can we do faster?"
   ]
  },
  {
   "cell_type": "markdown",
   "metadata": {},
   "source": [
    "indexing?"
   ]
  },
  {
   "cell_type": "code",
   "execution_count": 15,
   "metadata": {},
   "outputs": [],
   "source": [
    "from collections import defaultdict"
   ]
  },
  {
   "cell_type": "code",
   "execution_count": 16,
   "metadata": {},
   "outputs": [],
   "source": [
    "ent_idx = defaultdict(list)"
   ]
  },
  {
   "cell_type": "code",
   "execution_count": 17,
   "metadata": {},
   "outputs": [
    {
     "data": {
      "text/plain": [
       "['person', 'nightclub', 'ID card number', 'credit card number']"
      ]
     },
     "execution_count": 17,
     "metadata": {},
     "output_type": "execute_result"
    }
   ],
   "source": [
    "ds[0]['ner']['label']"
   ]
  },
  {
   "cell_type": "code",
   "execution_count": 18,
   "metadata": {},
   "outputs": [
    {
     "name": "stdout",
     "output_type": "stream",
     "text": [
      "CPU times: user 709 ms, sys: 4.01 ms, total: 713 ms\n",
      "Wall time: 712 ms\n"
     ]
    }
   ],
   "source": [
    "%%time\n",
    "for idx, s in enumerate(ds):\n",
    "    for ent in s['ner']['label']: ent_idx[ent].append(idx)"
   ]
  },
  {
   "cell_type": "markdown",
   "metadata": {},
   "source": [
    "Let's see how many example we have of `identifier`"
   ]
  },
  {
   "cell_type": "code",
   "execution_count": 19,
   "metadata": {},
   "outputs": [
    {
     "name": "stdout",
     "output_type": "stream",
     "text": [
      "{'tokenized_text': ['The', 'Ministry', 'of', 'Health', 'and', 'Population', 'in', 'Antananarivo', 'has', 'released', 'a', 'new', 'policy', 'regarding', 'the', 'collection', 'and', 'management', 'of', 'medical', 'records', '.', 'All', 'citizens', 'are', 'required', 'to', 'submit', 'their', 'personal', 'information', ',', 'including', 'name', ',', 'date', 'of', 'birth', ',', 'and', 'Social', 'Security', 'Number', ',', 'to', 'their', 'local', 'health', 'center', 'for', 'the', 'creation', 'of', 'an', 'electronic', 'medical', 'record', '.', 'Patients', 'can', 'access', 'their', 'records', 'using', 'a', 'unique', 'identifier', ',', 'which', 'is', 'a', 'combination', 'of', 'their', 'first', 'five', 'letters', 'of', 'their', 'last', 'name', 'and', 'the', 'last', 'four', 'digits', 'of', 'their', 'Social', 'Security', 'Number', '.', 'For', 'instance', ',', 'a', 'patient', 'named', 'Rasoanaivo', ',', 'born', 'on', '15th', 'October', '1985', ',', 'with', 'SSN', '501-02-1234', ',', 'will', 'have', 'the', 'identifier', 'RASOAN5123', '.'], 'ner': {'start': [33, 80, 35, 40, 88, 46, 98, 102, 108, 114], 'end': [33, 80, 37, 42, 90, 48, 98, 104, 108, 114], 'label': ['attribute', 'attribute', 'attribute', 'PII', 'PII', 'organization', 'person', 'date of birth', 'social security number', 'identifier']}}\n",
      "{'tokenized_text': ['The', \"'\", 'Belgian', 'Red', 'Cross', \"'\", 'organization', ',', 'based', 'in', 'Brussels', ',', 'is', 'organizing', 'a', 'charity', 'event', 'at', 'the', 'Palais', 'des', 'Beaux-Arts', '.', 'The', 'event', ',', 'called', \"'\", 'Solidarity', 'Night', \"'\", ',', 'aims', 'to', 'raise', 'funds', 'for', 'underprivileged', 'children', 'in', 'the', 'Congo', '.', 'Participants', 'are', 'requested', 'to', 'register', 'online', 'using', 'their', 'full', 'name', ',', 'date', 'of', 'birth', ',', 'and', 'email', 'address', '.', 'The', 'registration', 'fee', 'is', '€', '50', 'per', 'person', 'and', 'can', 'be', 'paid', 'using', 'a', 'credit', 'card', '.', 'The', 'event', 'details', 'are', ':', 'date', ':', '15th', 'May', '2023', ',', 'start', 'time', ':', '19', ':', '00', ',', 'and', 'end', 'time', ':', '23', ':', '00', '.', 'Attendees', 'will', 'receive', 'a', 'confirmation', 'email', 'with', 'their', 'ticket', 'number', 'and', 'a', 'QR', 'code', 'for', 'entry', '.'], 'ner': {'start': [2, 19, 86, 93, 101, 51, 54, 59, 110, 66, 76, 113, 117], 'end': [4, 21, 88, 95, 103, 52, 56, 59, 110, 67, 77, 114, 118], 'label': ['organization', 'venue', 'date', 'start time', 'end time', 'name', 'date of birth', 'email', 'email', 'monetary amount', 'payment method', 'identifier', 'identifier']}}\n",
      "{'tokenized_text': ['The', \"'\", 'Belgian', 'Red', 'Cross', \"'\", 'organization', ',', 'based', 'in', 'Brussels', ',', 'is', 'organizing', 'a', 'charity', 'event', 'at', 'the', 'Palais', 'des', 'Beaux-Arts', '.', 'The', 'event', ',', 'called', \"'\", 'Solidarity', 'Night', \"'\", ',', 'aims', 'to', 'raise', 'funds', 'for', 'underprivileged', 'children', 'in', 'the', 'Congo', '.', 'Participants', 'are', 'requested', 'to', 'register', 'online', 'using', 'their', 'full', 'name', ',', 'date', 'of', 'birth', ',', 'and', 'email', 'address', '.', 'The', 'registration', 'fee', 'is', '€', '50', 'per', 'person', 'and', 'can', 'be', 'paid', 'using', 'a', 'credit', 'card', '.', 'The', 'event', 'details', 'are', ':', 'date', ':', '15th', 'May', '2023', ',', 'start', 'time', ':', '19', ':', '00', ',', 'and', 'end', 'time', ':', '23', ':', '00', '.', 'Attendees', 'will', 'receive', 'a', 'confirmation', 'email', 'with', 'their', 'ticket', 'number', 'and', 'a', 'QR', 'code', 'for', 'entry', '.'], 'ner': {'start': [2, 19, 86, 93, 101, 51, 54, 59, 110, 66, 76, 113, 117], 'end': [4, 21, 88, 95, 103, 52, 56, 59, 110, 67, 77, 114, 118], 'label': ['organization', 'venue', 'date', 'start time', 'end time', 'name', 'date of birth', 'email', 'email', 'monetary amount', 'payment method', 'identifier', 'identifier']}}\n",
      "{'tokenized_text': ['At', 'the', 'city', 'hall', 'meeting', ',', 'the', 'mayor', 'of', 'Kuwait', 'City', ',', 'Ali', 'Al-Fahad', ',', 'presented', 'a', 'new', 'urban', 'development', 'plan', '.', 'He', 'shared', 'that', 'the', 'city', 'will', 'expand', 'towards', 'the', 'north', ',', 'and', 'the', 'new', 'neighborhood', ',', 'Al-Sabah', ',', 'will', 'have', '10', ',', '000', 'housing', 'units', '.', 'He', 'also', 'mentioned', 'that', 'the', 'city', 'council', 'has', 'approved', 'the', 'construction', 'of', 'a', 'new', 'hospital', ',', 'Al-Sabah', 'Medical', 'Center', ',', 'with', '300', 'beds', 'and', 'a', 'helipad', 'for', 'emergency', 'cases', '.', 'The', 'mayor', 'then', 'announced', 'that', 'all', 'residents', 'in', 'the', 'city', 'will', 'receive', 'a', 'new', 'ID', 'card', ',', 'which', 'will', 'include', 'their', 'personal', 'details', 'like', 'name', ',', 'address', ',', 'and', 'phone', 'number', '.', 'The', 'card', 'will', 'also', 'have', 'a', 'unique', 'identifier', ',', 'the', 'Kuwait', 'City', 'ID', 'Number', ',', 'which', 'will', 'be', 'used', 'for', 'various', 'services', 'like', 'tax', 'payments', 'and', 'library', 'memberships', '.', 'The', 'mayor', 'also', 'emphasized', 'the', 'importance', 'of', 'protecting', 'personal', 'information', 'and', 'reminded', 'everyone', 'to', 'keep', 'their', 'ID', 'cards', 'secure', '.'], 'ner': {'start': [12, 9, 120, 38, 64, 42, 64, 69, 73, 83, 91, 99, 102, 120], 'end': [13, 10, 121, 38, 64, 46, 66, 70, 73, 87, 93, 100, 108, 123], 'label': ['person', 'location', 'location', 'neighborhood', 'neighborhood', 'quantity', 'organization', 'quantity', 'facility', 'group', 'document', 'information', 'personal information', 'identifier']}}\n",
      "{'tokenized_text': ['The', 'ancient', 'temple', 'of', 'Andohalo', 'in', 'Antananarivo', ',', 'Madagascar', ',', 'is', 'known', 'for', 'its', 'beautiful', 'stone', 'carvings', 'and', 'historical', 'significance', '.', 'It', 'is', 'open', 'to', 'visitors', 'daily', 'from', '9', 'AM', 'to', '5', 'PM', '.', 'To', 'enter', 'the', 'temple', ',', 'visitors', 'must', 'provide', 'a', 'valid', 'photo', 'ID', ',', 'such', 'as', 'a', 'passport', 'or', 'driver', \"'\", 's', 'license', ',', 'and', 'pay', 'the', 'entrance', 'fee', 'of', '5000', 'Ariary', '.', 'The', 'temple', 'management', 'keeps', 'a', 'record', 'of', 'visitors', \"'\", 'information', 'for', 'security', 'purposes', '.'], 'ner': {'start': [0, 6, 28, 44, 50, 63, 73], 'end': [4, 8, 32, 45, 55, 64, 75], 'label': ['organization', 'location', 'time frame', 'identifier', 'document', 'currency amount', 'data record']}}\n",
      "{'tokenized_text': ['The', 'Human', 'Resources', 'department', 'of', 'Bhutan', 'Broadcasting', 'Service', 'has', 'released', 'the', 'following', 'employee', 'records', 'for', 'the', 'year', '2022', ':', 'Employee', 'ID', '|', 'Name', '|', 'Position', '|', 'Date', 'of', 'Birth', '|', 'Social', 'Security', 'Number', '|', 'Salary', '-', '-', '-', '-', '-', '-', '-', '-', '-', '-', '-', '-', '-', '-', '-', '-', '-', '-', '-', '-', '-', '-', '-', '-', '-', '-', '-', '-', '-', '-', '-', '-', '-', '-', '-', '-', '-', '-', '-', '-', '-', '-', '-', '-', '-', '-', '-', '-', '-', '-', '-', '-', '-', '-', '-', '-', '-', '-', '-', '-', '-', '-', '-', '-', '-', '-', '-', '-', '-', '-', '-', '-', '-', '-', '-', '-', '-', '-', '-', '-', '-', '-', '-', '-', '-', '-', '-', '-', '-', '-', '-', '-', '-', '-', '-', '-', '-', '-', '-', '-', '-', '-', '-', '-', '-', '-', '-', '-', '-', '-', '-', '-', '-', '-', '-', '101', '|', 'Tenzin', 'Wangchuk', '|', 'Software', 'Engineer', '|', '1992-03-25', '|', '123-45-6789', '|', '50000', '202', '|', 'Sonam', 'Tenzin', '|', 'Data', 'Analyst', '|', '1988-11-07', '|', '987-65-4321', '|', '60000', '303', '|', 'Dorji', 'Wangchuk', '|', 'Marketing', 'Manager', '|', '1995-08-19', '|', '555-12-3456', '|', '75000'], 'ner': {'start': [1, 5, 19, 152, 155, 158, 160, 162, 165, 168, 171, 173, 175, 178, 181, 184, 186, 188], 'end': [7, 7, 20, 153, 156, 158, 160, 162, 166, 169, 171, 173, 175, 179, 182, 184, 186, 188], 'label': ['organization', 'organization', 'identifier', 'person', 'job title', 'date of birth', 'social security number', 'salary', 'person', 'job title', 'date of birth', 'social security number', 'salary', 'person', 'job title', 'date of birth', 'social security number', 'salary']}}\n"
     ]
    },
    {
     "data": {
      "text/plain": [
       "[None, None, None, None, None, None]"
      ]
     },
     "execution_count": 19,
     "metadata": {},
     "output_type": "execute_result"
    }
   ],
   "source": [
    "[print(ds[i]) for i in ent_idx['identifier']]"
   ]
  },
  {
   "cell_type": "markdown",
   "metadata": {},
   "source": [
    "Okay, only 10, that's weak and odd"
   ]
  },
  {
   "cell_type": "code",
   "execution_count": 20,
   "metadata": {},
   "outputs": [],
   "source": [
    "def find_matching_ents(query, all_ents=unique_ents, case_insensitive=True):\n",
    "    q = query.lower() if case_insensitive else query\n",
    "    return [e for e in all_ents if q in (e.lower() if case_insensitive else e)]"
   ]
  },
  {
   "cell_type": "code",
   "execution_count": 21,
   "metadata": {},
   "outputs": [
    {
     "data": {
      "text/plain": [
       "['financial information',\n",
       " 'financial record',\n",
       " 'financial_institution',\n",
       " 'financial aid',\n",
       " 'financial institution']"
      ]
     },
     "execution_count": 21,
     "metadata": {},
     "output_type": "execute_result"
    }
   ],
   "source": [
    "find_matching_ents(\"financial\", unique_ents)"
   ]
  },
  {
   "cell_type": "markdown",
   "metadata": {},
   "source": [
    "That's more like it!"
   ]
  },
  {
   "cell_type": "code",
   "execution_count": 22,
   "metadata": {},
   "outputs": [],
   "source": [
    "import random"
   ]
  },
  {
   "cell_type": "code",
   "execution_count": 23,
   "metadata": {},
   "outputs": [],
   "source": [
    "matching_idxs = []"
   ]
  },
  {
   "cell_type": "code",
   "execution_count": 24,
   "metadata": {},
   "outputs": [
    {
     "data": {
      "text/plain": [
       "[433, 1337, 1337, 1568, 1796, 3069]"
      ]
     },
     "execution_count": 24,
     "metadata": {},
     "output_type": "execute_result"
    }
   ],
   "source": [
    "ent_idx['identifier']"
   ]
  },
  {
   "cell_type": "code",
   "execution_count": 25,
   "metadata": {},
   "outputs": [],
   "source": [
    "def get_random_sample_for_ent(ent, ds, ent_idx, unique_ents):\n",
    "    matching_idxs = []\n",
    "    matches = find_matching_ents(ent, unique_ents)\n",
    "    if not matches: return None\n",
    "    # print(\"Matches:\", matches)\n",
    "    matching_idxs = [idx for a in matches for idx in ent_idx[a]]\n",
    "    # print(\"Matching Idxs:\", matching_idxs)\n",
    "    idx = random.choice(matching_idxs)\n",
    "    print(\"idx\",idx)\n",
    "    return ' '.join(ds[idx]['tokenized_text'])"
   ]
  },
  {
   "cell_type": "code",
   "execution_count": 26,
   "metadata": {},
   "outputs": [
    {
     "name": "stdout",
     "output_type": "stream",
     "text": [
      "idx 1241\n"
     ]
    },
    {
     "data": {
      "text/plain": [
       "'Dear valued customers , As part of our commitment to providing exceptional service , we would like to inform you about the upcoming changes to our loyalty program . Effective January 1 , 2023 , all members will receive a new membership card with an updated membership number , valid for an additional 5 years . The new card will include your full name , date of birth , and contact details : address 456 Elm Street , San Francisco , CA 94123 , phone number 415-555-1234 , and email address john . doe @ example . com . In addition , we have updated our privacy policy to include biometric data collected through our facial recognition technology during check-in . This data will be used solely for the purpose of personalizing your travel experience and will not be shared with third parties . We take your privacy seriously and are committed to protecting your Personal Identifiable Information ( PII ) . For customers traveling to South Korea , we would like to remind you of the requirements for entering the country : a valid passport , a completed health declaration form , and a negative COVID-19 test result taken within 48 hours of departure . Please ensure you have these documents ready to present at the airport . Thank you for choosing our services , and we look forward to welcoming you on your next adventure ! Best regards , The XYZ Travel Team'"
      ]
     },
     "execution_count": 26,
     "metadata": {},
     "output_type": "execute_result"
    }
   ],
   "source": [
    "f = get_random_sample_for_ent('identifier', ds, ent_idx, unique_ents) ; f"
   ]
  },
  {
   "cell_type": "markdown",
   "metadata": {},
   "source": [
    "Okay, not bad. Two things. I'd like to add some context around what is 'financial' data. Can we get formats or report Types rather than just names? Archita has a resource we can take advantage of."
   ]
  },
  {
   "cell_type": "markdown",
   "metadata": {},
   "source": [
    "## Structured Data Generation"
   ]
  },
  {
   "cell_type": "code",
   "execution_count": 86,
   "metadata": {},
   "outputs": [],
   "source": [
    "import random"
   ]
  },
  {
   "cell_type": "markdown",
   "metadata": {},
   "source": [
    "We're going to convert each entitiy set into it's own class, this  allows us to randomly sample!"
   ]
  },
  {
   "cell_type": "code",
   "execution_count": 125,
   "metadata": {},
   "outputs": [],
   "source": [
    "class Financial:\n",
    "    # Account numbers or billing IDs, possibly insurance-related.\n",
    "    def __init__(self, accounts): self.accounts = accounts\n",
    "    def random(self): return random.choice(self.accounts)\n",
    "\n",
    "class PatientDemo:\n",
    "    # Patient's date of birth.\n",
    "    def __init__(self, dobs): self.dobs = dobs\n",
    "    def random(self): return random.choice(self.dobs)\n",
    "\n",
    "class Practitioner:\n",
    "    # Full name of the treating clinician.\n",
    "    def __init__(self, names): self.names = names\n",
    "    def random(self): return random.choice(self.names)\n",
    "\n",
    "class Professional:\n",
    "    # Initials of the treating clinician.\n",
    "    def __init__(self, initials): self.initials = initials\n",
    "    def random(self): return random.choice(self.initials)\n",
    "\n",
    "class PatientLocation:\n",
    "    # Residential or hospital-provided address, including postal codes and provinces.\n",
    "    def __init__(self, addresses): self.addresses = addresses\n",
    "    def random(self): return random.choice(self.addresses)\n",
    "\n",
    "class Name:\n",
    "    # Full name of the patient.\n",
    "    def __init__(self, names): self.names = names\n",
    "    def random(self): return random.choice(self.names)\n",
    "\n",
    "class EncounterDate:\n",
    "    # Timestamp of a clinical encounter, e.g. 2015-10-13T11:01:00-05:00.\n",
    "    def __init__(self, timestamps): self.timestamps = timestamps\n",
    "    def random(self): return random.choice(self.timestamps)\n",
    "\n",
    "class PatientContact:\n",
    "    # Phone numbers, but may include addresses or physical contact information.\n",
    "    def __init__(self, contacts): self.contacts = contacts\n",
    "    def random(self): return random.choice(self.contacts)\n",
    "\n",
    "class PatientID:\n",
    "    # Identifiers like OHIP numbers, MRNs, JHN IDs, or CMRs.\n",
    "    def __init__(self, ids): self.ids = ids\n",
    "    def random(self): return random.choice(self.ids)\n",
    "\n",
    "class Organization:\n",
    "    # Hospital departments, wings, or named units.\n",
    "    def __init__(self, orgs): self.orgs = orgs\n",
    "    def random(self): return random.choice(self.orgs)"
   ]
  },
  {
   "cell_type": "code",
   "execution_count": 126,
   "metadata": {},
   "outputs": [],
   "source": [
    "accounts = Financial([\"ACC-23456\", \"BILL-98123\", \"INS-77231\"])\n",
    "dobs = PatientDemo([\"1985-03-14\", \"1992-07-01\", \"2000-12-25\"])\n",
    "clinicians = Practitioner([\"Emily Tran\", \"Rajiv Kapoor\", \"Sarah Mendel\"])\n",
    "initials = Professional([\"E.T.\", \"R.K.\", \"S.M.\"])\n",
    "addresses = PatientLocation([\n",
    "    \"123 Main St, Toronto, ON M4B 1B3\",\n",
    "    \"Unit 402, 88 King St W, Hamilton, ON L8P 1A1\",\n",
    "    \"5th Floor, 999 Health Sciences Rd, Ottawa, ON K1A 0B2\"\n",
    "])\n",
    "patient_names = Name([\"John Doe\", \"Jane Smith\", \"Alice Johnson\"])\n",
    "encounter_times = EncounterDate([\n",
    "    \"2023-09-15T14:30:00-04:00\",\n",
    "    \"2022-11-01T08:15:00-05:00\",\n",
    "    \"2024-02-20T19:45:00-05:00\"\n",
    "])\n",
    "contacts = PatientContact([\n",
    "    \"(416) 555-0198\", \n",
    "    \"905-321-7645\", \n",
    "    \"456 Lakeshore Dr, Mississauga, ON\"\n",
    "])\n",
    "mrns = PatientID([\"MRN1234\", \"OHIP9876543210\", \"JHN-A112233\"])\n",
    "departments = Organization([\"Cardiology Ward\", \"Oncology Unit\", \"Emergency Department\"])\n"
   ]
  },
  {
   "cell_type": "markdown",
   "metadata": {},
   "source": [
    "Now onto 'realistic' Report Templates"
   ]
  },
  {
   "cell_type": "code",
   "execution_count": 127,
   "metadata": {},
   "outputs": [],
   "source": [
    "REPORT_TEMPLATES = {\n",
    "    \"Admission Note\": {\n",
    "        \"template\": \"\"\"Admission Note\n",
    "Patient Name: <name>\n",
    "MRN: <patient_id>\n",
    "Account#: <financial>\n",
    "Admission Date: <encounter_date>\n",
    "Attending Physician: Dr. <practitioner>\n",
    "Reason for Admission: Chest Pain\"\"\",\n",
    "        \"entities\": [\"name\", \"patient_id\", \"financial\", \"encounter_date\", \"practitioner\"]\n",
    "    },\n",
    "    \"Discharge Summary\": {\n",
    "        \"template\": \"\"\"Discharge Summary\n",
    "Patient Name: <name>\n",
    "MRN: <patient_id>\n",
    "Date of Admission: <encounter_date>\n",
    "Date of Discharge: <encounter_date>\n",
    "Attending Physician: Dr. <practitioner>\n",
    "\n",
    "Discharge Instructions: Follow-up at <organization>.\"\"\",\n",
    "        \"entities\": [\"name\", \"patient_id\", \"encounter_date\", \"practitioner\", \"organization\"]\n",
    "    },\n",
    "    \"Radiology Report\": {\n",
    "        \"template\": \"\"\"Radiology Report\n",
    "Patient: <name> | MRN: <patient_id> | DOB: <patient_demo>\n",
    "Exam Date: <encounter_date>\n",
    "Ordering Physician: Dr. <practitioner>\n",
    "\n",
    "Electronically signed by Dr. <practitioner>, MD on <encounter_date>.\"\"\",\n",
    "        \"entities\": [\"name\", \"patient_id\", \"patient_demo\", \"encounter_date\", \"practitioner\"]\n",
    "    },\n",
    "    \"Psychiatry Evaluation\": {\n",
    "        \"template\": \"\"\"Psychiatry Evaluation\n",
    "Patient: <name>\n",
    "MRN: <patient_id>\n",
    "Date of Evaluation: <encounter_date>\n",
    "Psychiatrist: <practitioner>\n",
    "\n",
    "Chief Complaint: Depression and anxiety symptoms worsening.\n",
    "\n",
    "Assessment:\n",
    "- Mood: Depressed, anxious\n",
    "- Thought process: Organized, coherent\n",
    "\n",
    "Plan:\n",
    "- Start sertraline 50 mg daily\n",
    "- Follow-up appointment at <organization>\"\"\",\n",
    "        \"entities\": [\"name\", \"patient_id\", \"encounter_date\", \"practitioner\", \"organization\"]\n",
    "    },\n",
    "    \"Pathology Report\": {\n",
    "        \"template\": \"\"\"Pathology Report\n",
    "Patient: <name>\n",
    "MRN: <patient_id>\n",
    "DOB: <patient_demo>\n",
    "Accession#: <financial>\n",
    "Date of Procedure: <encounter_date>\n",
    "\n",
    "Specimen:\n",
    "- Colon biopsy, ascending colon\n",
    "\n",
    "Diagnosis:\n",
    "- Hyperplastic polyp\n",
    "\n",
    "Signed by: <practitioner>, Pathologist, <encounter_date>\"\"\",\n",
    "        \"entities\": [\"name\", \"patient_id\", \"patient_demo\", \"financial\", \"encounter_date\", \"practitioner\"]\n",
    "    },\n",
    "    \"Operative Note\": {\n",
    "        \"template\": \"\"\"Operative Note\n",
    "Patient Name: <name>\n",
    "MRN: <patient_id>\n",
    "Date of Surgery: <encounter_date>\n",
    "Surgeon: <practitioner>\n",
    "Assistant: <professional>\n",
    "\n",
    "Procedure:\n",
    "- Laparoscopic appendectomy\n",
    "\n",
    "Findings:\n",
    "- Acute appendicitis with mild inflammation\n",
    "\n",
    "Electronically signed: <practitioner>, <encounter_date>\"\"\",\n",
    "        \"entities\": [\"name\", \"patient_id\", \"encounter_date\", \"practitioner\", \"professional\"]\n",
    "    },\n",
    "    \"Emergency Department Note\": {\n",
    "        \"template\": \"\"\"Emergency Department Note\n",
    "Patient Name: <name>\n",
    "MRN: <patient_id>\n",
    "Encounter Time: <encounter_date>\n",
    "Attending Physician: <practitioner>\n",
    "\n",
    "Chief Complaint: Shortness of breath\n",
    "\n",
    "Disposition:\n",
    "- Discharged home with inhaler\n",
    "- Follow-up at <organization> recommended within 72 hours\"\"\",\n",
    "        \"entities\": [\"name\", \"patient_id\", \"encounter_date\", \"practitioner\", \"organization\"]\n",
    "    },\n",
    "    \"Consultation Note\": {\n",
    "        \"template\": \"\"\"Consultation Note\n",
    "Patient: <name>\n",
    "MRN: <patient_id>\n",
    "Consultation Date: <encounter_date>\n",
    "Consultant: <practitioner>\n",
    "\n",
    "Reason for Consultation:\n",
    "- Evaluate for possible rheumatoid arthritis\n",
    "\n",
    "Recommendations:\n",
    "- Initiate laboratory tests, including RF and anti-CCP\n",
    "- Schedule follow-up in 2 weeks at <organization>\"\"\",\n",
    "        \"entities\": [\"name\", \"patient_id\", \"encounter_date\", \"practitioner\", \"organization\"]\n",
    "    },\n",
    "    \"Progress Note\": {\n",
    "        \"template\": \"\"\"Progress Note\n",
    "Patient Name: <name>\n",
    "MRN: <patient_id>\n",
    "Date: <encounter_date>\n",
    "Physician: <practitioner>\n",
    "\n",
    "Progress:\n",
    "- Stable condition, responding well to current therapy\n",
    "- Plan: Continue medications and monitor closely\"\"\",\n",
    "        \"entities\": [\"name\", \"patient_id\", \"encounter_date\", \"practitioner\"]\n",
    "    },\n",
    "    \"Signature and Footer\": {\n",
    "        \"template\": \"\"\"Electronically signed by: <practitioner>, MD, <encounter_date>\n",
    "Printed by user: <professional>, <encounter_date>\n",
    "Location: <organization>, <patient_location>\"\"\",\n",
    "        \"entities\": [\"practitioner\", \"encounter_date\", \"professional\", \"organization\", \"patient_location\"]\n",
    "    },\n",
    "    \"Billing Statement\": {\n",
    "        \"template\": \"\"\"Billing Statement\n",
    "Patient Name: <name>\n",
    "Account#: <financial>\n",
    "Billing Date: <encounter_date>\n",
    "\n",
    "Service Provided:\n",
    "- Outpatient Consultation\n",
    "\n",
    "Amount Due: $320.00\n",
    "Due Date: <encounter_date>\"\"\",\n",
    "        \"entities\": [\"name\", \"financial\", \"encounter_date\"]\n",
    "    },\n",
    "    \"Family History\": {\n",
    "        \"template\": \"\"\"Family History:\n",
    "Father of patient <name>, deceased at age 62 due to cardiovascular disease.\"\"\",\n",
    "        \"entities\": [\"name\"]\n",
    "    },\n",
    "    \"Follow-up Instructions\": {\n",
    "        \"template\": \"\"\"Follow-up:\n",
    "Patient <name> advised to contact <organization> at <patient_contact> within one week to schedule follow-up.\"\"\",\n",
    "        \"entities\": [\"name\", \"organization\", \"patient_contact\"]\n",
    "    }\n",
    "}"
   ]
  },
  {
   "cell_type": "code",
   "execution_count": 128,
   "metadata": {},
   "outputs": [
    {
     "name": "stdout",
     "output_type": "stream",
     "text": [
      "Progress Note\n",
      "{'template': 'Progress Note\\nPatient Name: <name>\\nMRN: <patient_id>\\nDate: <encounter_date>\\nPhysician: <practitioner>\\n\\nProgress:\\n- Stable condition, responding well to current therapy\\n- Plan: Continue medications and monitor closely', 'entities': ['name', 'patient_id', 'encounter_date', 'practitioner']}\n"
     ]
    }
   ],
   "source": [
    "rt = random.choice(list(REPORT_TEMPLATES.keys())) ; print(rt)\n",
    "info = REPORT_TEMPLATES[rt] ; print(info)"
   ]
  },
  {
   "cell_type": "code",
   "execution_count": 129,
   "metadata": {},
   "outputs": [],
   "source": [
    "phi_classes = {\n",
    "    \"financial\": accounts,\n",
    "    \"patient_demo\": dobs,\n",
    "    \"practitioner\": clinicians,\n",
    "    \"professional\": initials,\n",
    "    \"patient_location\": addresses,\n",
    "    \"name\": patient_names,\n",
    "    \"encounter_date\": encounter_times,\n",
    "    \"patient_contact\": contacts,\n",
    "    \"patient_id\": mrns,\n",
    "    \"organization\": departments\n",
    "}\n"
   ]
  },
  {
   "cell_type": "code",
   "execution_count": 130,
   "metadata": {},
   "outputs": [
    {
     "data": {
      "text/plain": [
       "{'name': 'Jane Smith',\n",
       " 'patient_id': 'MRN1234',\n",
       " 'encounter_date': '2023-09-15T14:30:00-04:00',\n",
       " 'practitioner': 'Emily Tran'}"
      ]
     },
     "execution_count": 130,
     "metadata": {},
     "output_type": "execute_result"
    }
   ],
   "source": [
    "phi_values = {phi_label: phi_classes[phi_label].random() for phi_label in info[\"entities\"]} ; phi_values"
   ]
  },
  {
   "cell_type": "markdown",
   "metadata": {},
   "source": [
    "Randomly sample snippet from Pile Pii:"
   ]
  },
  {
   "cell_type": "code",
   "execution_count": 131,
   "metadata": {},
   "outputs": [],
   "source": [
    "ti = get_random_sample_for_ent(random.choice(info['entities']), ds, ent_idx, unique_ents); ti"
   ]
  },
  {
   "cell_type": "markdown",
   "metadata": {},
   "source": [
    "Create Prompt"
   ]
  },
  {
   "cell_type": "code",
   "execution_count": 132,
   "metadata": {},
   "outputs": [],
   "source": [
    "def create_structured_prompt(template: str, inspiration: str) -> str:\n",
    "    return f\"\"\"You are generating a realistic clinical report snippet.\n",
    "\n",
    "Template:\n",
    "{template}\n",
    "\n",
    "Instructions:\n",
    "1. Use the provided template exactly as shown.\n",
    "2. Keep all placeholders exactly as provided (e.g., \"<name>\", \"<patient_id>\"). Do NOT replace placeholders with realistic or fake data.\n",
    "3. Use the provided thematic inspiration ONLY for context and realistic phrasing ideas. Do NOT copy directly.\n",
    "4. Ensure the text is medically plausible and structured realistically.\n",
    "5. Do NOT add or remove any placeholders.\n",
    "\n",
    "Return the output exactly as the template, with placeholders intact.\"\"\""
   ]
  },
  {
   "cell_type": "code",
   "execution_count": 133,
   "metadata": {},
   "outputs": [
    {
     "data": {
      "text/plain": [
       "'Progress Note'"
      ]
     },
     "execution_count": 133,
     "metadata": {},
     "output_type": "execute_result"
    }
   ],
   "source": [
    "rt"
   ]
  },
  {
   "cell_type": "code",
   "execution_count": 134,
   "metadata": {},
   "outputs": [
    {
     "data": {
      "text/plain": [
       "'You are generating a realistic clinical report snippet.\\n\\nTemplate:\\nProgress Note\\nPatient Name: <name>\\nMRN: <patient_id>\\nDate: <encounter_date>\\nPhysician: <practitioner>\\n\\nProgress:\\n- Stable condition, responding well to current therapy\\n- Plan: Continue medications and monitor closely\\n\\nInstructions:\\n1. Use the provided template exactly as shown.\\n2. Keep all placeholders exactly as provided (e.g., \"<name>\", \"<patient_id>\"). Do NOT replace placeholders with realistic or fake data.\\n3. Use the provided thematic inspiration ONLY for context and realistic phrasing ideas. Do NOT copy directly.\\n4. Ensure the text is medically plausible and structured realistically.\\n5. Do NOT add or remove any placeholders.\\n\\nReturn the output exactly as the template, with placeholders intact.'"
      ]
     },
     "execution_count": 134,
     "metadata": {},
     "output_type": "execute_result"
    }
   ],
   "source": [
    "create_structured_prompt(info['template'], ti)"
   ]
  },
  {
   "cell_type": "code",
   "execution_count": 135,
   "metadata": {},
   "outputs": [
    {
     "ename": "SyntaxError",
     "evalue": "'break' outside loop (1693679151.py, line 1)",
     "output_type": "error",
     "traceback": [
      "\u001b[0;36m  Cell \u001b[0;32mIn[135], line 1\u001b[0;36m\u001b[0m\n\u001b[0;31m    break;\u001b[0m\n\u001b[0m    ^\u001b[0m\n\u001b[0;31mSyntaxError\u001b[0m\u001b[0;31m:\u001b[0m 'break' outside loop\n"
     ]
    }
   ],
   "source": [
    "break;"
   ]
  },
  {
   "cell_type": "markdown",
   "metadata": {},
   "source": [
    "Replace placeholders with PII"
   ]
  },
  {
   "cell_type": "code",
   "execution_count": 114,
   "metadata": {},
   "outputs": [],
   "source": [
    "import re"
   ]
  },
  {
   "cell_type": "code",
   "execution_count": 136,
   "metadata": {},
   "outputs": [],
   "source": [
    "sample_o = \"\"\"Progress Note  \n",
    "Patient Name: <name>  \n",
    "MRN: <patient_id>  \n",
    "Date: <encounter_date>  \n",
    "Physician: <practitioner>  \n",
    "\n",
    "Progress:  \n",
    "- Stable condition, responding well to current therapy  \n",
    "- Plan: Continue medications and monitor closely  \n",
    "\"\"\""
   ]
  },
  {
   "cell_type": "code",
   "execution_count": 137,
   "metadata": {},
   "outputs": [],
   "source": [
    "def sub_placeholders(text, phi_dict):\n",
    "    for placeholder, real_value in phi_dict.items():\n",
    "        text = re.sub(f\"<{placeholder}>\", real_value, text)\n",
    "    return text"
   ]
  },
  {
   "cell_type": "code",
   "execution_count": 138,
   "metadata": {},
   "outputs": [
    {
     "data": {
      "text/plain": [
       "'Progress Note  \\nPatient Name: Jane Smith  \\nMRN: MRN1234  \\nDate: 2023-09-15T14:30:00-04:00  \\nPhysician: Emily Tran  \\n\\nProgress:  \\n- Stable condition, responding well to current therapy  \\n- Plan: Continue medications and monitor closely  \\n'"
      ]
     },
     "execution_count": 138,
     "metadata": {},
     "output_type": "execute_result"
    }
   ],
   "source": [
    "ft = sub_placeholders(sample_o, phi_values); ft"
   ]
  },
  {
   "cell_type": "markdown",
   "metadata": {},
   "source": [
    "Generate JSON NER format"
   ]
  },
  {
   "cell_type": "code",
   "execution_count": 139,
   "metadata": {},
   "outputs": [],
   "source": [
    "def generate_ner_json(final_text, phi_dict):\n",
    "    entities = []\n",
    "    for phi_type, real_value in phi_dict.items():\n",
    "        for match in re.finditer(re.escape(real_value), final_text):\n",
    "            entities.append({\n",
    "                \"entity\": real_value,\n",
    "                \"type\": phi_type,\n",
    "                \"start\": match.start(),\n",
    "                \"end\": match.end()\n",
    "            })\n",
    "    return {\"text\": final_text, \"entities\": entities}"
   ]
  },
  {
   "cell_type": "code",
   "execution_count": 140,
   "metadata": {},
   "outputs": [
    {
     "data": {
      "text/plain": [
       "{'text': 'Progress Note  \\nPatient Name: Jane Smith  \\nMRN: MRN1234  \\nDate: 2023-09-15T14:30:00-04:00  \\nPhysician: Emily Tran  \\n\\nProgress:  \\n- Stable condition, responding well to current therapy  \\n- Plan: Continue medications and monitor closely  \\n',\n",
       " 'entities': [{'entity': 'Jane Smith', 'type': 'name', 'start': 30, 'end': 40},\n",
       "  {'entity': 'MRN1234', 'type': 'patient_id', 'start': 48, 'end': 55},\n",
       "  {'entity': '2023-09-15T14:30:00-04:00',\n",
       "   'type': 'encounter_date',\n",
       "   'start': 64,\n",
       "   'end': 89},\n",
       "  {'entity': 'Emily Tran', 'type': 'practitioner', 'start': 103, 'end': 113}]}"
      ]
     },
     "execution_count": 140,
     "metadata": {},
     "output_type": "execute_result"
    }
   ],
   "source": [
    "generate_ner_json(ft, phi_values)"
   ]
  },
  {
   "cell_type": "markdown",
   "metadata": {},
   "source": [
    "## Nursing Notes; see Archita's suggestion + other notes"
   ]
  },
  {
   "cell_type": "markdown",
   "metadata": {},
   "source": [
    "TBD"
   ]
  }
 ],
 "metadata": {
  "language_info": {
   "name": "python"
  }
 },
 "nbformat": 4,
 "nbformat_minor": 2
}
