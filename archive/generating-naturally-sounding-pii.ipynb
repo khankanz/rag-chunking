{
 "cells": [
  {
   "cell_type": "markdown",
   "metadata": {},
   "source": [
    "# Update PII ds\n",
    "> urchade/synthetic-pii-ner-mistral-v1"
   ]
  },
  {
   "cell_type": "code",
   "execution_count": 1,
   "metadata": {},
   "outputs": [],
   "source": [
    "from datasets import load_dataset, Dataset\n",
    "import json\n",
    "from pathlib import Path"
   ]
  },
  {
   "cell_type": "code",
   "execution_count": 2,
   "metadata": {},
   "outputs": [
    {
     "data": {
      "text/plain": [
       "PosixPath('/teamspace/studios/this_studio/data')"
      ]
     },
     "execution_count": 2,
     "metadata": {},
     "output_type": "execute_result"
    }
   ],
   "source": [
    "DP = Path.cwd()/'data'; DP"
   ]
  },
  {
   "cell_type": "code",
   "execution_count": 3,
   "metadata": {},
   "outputs": [],
   "source": [
    "with open(DP/\"pii-mistral.json\") as f: data = json.load(f)"
   ]
  },
  {
   "cell_type": "code",
   "execution_count": 4,
   "metadata": {},
   "outputs": [
    {
     "name": "stdout",
     "output_type": "stream",
     "text": [
      "{'tokenized_text': ['Mamadou', 'Diop', ',', 'a', 'resident', 'of', 'Dakar', ',', 'is', 'a', 'regular', 'at', 'the', \"'\", 'Club', '54', \"'\", 'nightclub', 'located', 'at', '45', 'Rue', 'de', 'la', 'Liberté', '.', 'He', 'usually', 'arrives', 'around', 'midnight', 'and', 'often', 'leaves', 'around', '3', 'am', '.', 'Mamadou', \"'\", 's', 'ID', 'card', 'number', 'is', 'WS-123456789-1', ',', 'and', 'he', 'pays', 'for', 'his', 'drinks', 'with', 'a', 'credit', 'card', ':', '1234-5678-9012-3456', '.'], 'ner': [[0, 1, 'person'], [14, 15, 'nightclub'], [45, 45, 'ID card number'], [58, 58, 'credit card number']]}\n"
     ]
    }
   ],
   "source": [
    "print(data[0])"
   ]
  },
  {
   "cell_type": "code",
   "execution_count": 5,
   "metadata": {},
   "outputs": [
    {
     "data": {
      "text/plain": [
       "19635"
      ]
     },
     "execution_count": 5,
     "metadata": {},
     "output_type": "execute_result"
    }
   ],
   "source": [
    "len(data)"
   ]
  },
  {
   "cell_type": "markdown",
   "metadata": {},
   "source": [
    "Normalize each NER span into a dict for compatibility"
   ]
  },
  {
   "cell_type": "code",
   "execution_count": 6,
   "metadata": {},
   "outputs": [],
   "source": [
    "for sample in data:\n",
    "    sample[\"ner\"] = [\n",
    "        {\"start\": s, \"end\": e, \"label\": lbl}\n",
    "        for s, e, lbl in sample[\"ner\"]\n",
    "    ]"
   ]
  },
  {
   "cell_type": "code",
   "execution_count": 7,
   "metadata": {},
   "outputs": [],
   "source": [
    "from datasets import Features, Sequence, Value, Dataset\n",
    "\n",
    "features = Features({\n",
    "    \"tokenized_text\": Sequence(Value(\"string\")),\n",
    "    \"ner\": Sequence({\n",
    "        \"start\": Value(\"int64\"),\n",
    "        \"end\": Value(\"int64\"),\n",
    "        \"label\": Value(\"string\")\n",
    "    })\n",
    "})\n",
    "\n",
    "ds = Dataset.from_list(data, features=features)"
   ]
  },
  {
   "cell_type": "code",
   "execution_count": 8,
   "metadata": {},
   "outputs": [
    {
     "data": {
      "text/plain": [
       "Dataset({\n",
       "    features: ['tokenized_text', 'ner'],\n",
       "    num_rows: 19635\n",
       "})"
      ]
     },
     "execution_count": 8,
     "metadata": {},
     "output_type": "execute_result"
    }
   ],
   "source": [
    "ds"
   ]
  },
  {
   "cell_type": "markdown",
   "metadata": {},
   "source": [
    "Okay, we've established that this ds has non-ENG languaged, we need to join tokenized text and check for English, filter out the rest"
   ]
  },
  {
   "cell_type": "code",
   "execution_count": 9,
   "metadata": {},
   "outputs": [],
   "source": [
    "from langdetect import detect, DetectorFactory\n",
    "DetectorFactory.seed = 0\n",
    "def is_probably_english(text): return detect(text) == \"en\""
   ]
  },
  {
   "cell_type": "code",
   "execution_count": 10,
   "metadata": {},
   "outputs": [
    {
     "data": {
      "application/vnd.jupyter.widget-view+json": {
       "model_id": "32e7d787e0cd4868b394cad3fc53a07e",
       "version_major": 2,
       "version_minor": 0
      },
      "text/plain": [
       "Filter:   0%|          | 0/19635 [00:00<?, ? examples/s]"
      ]
     },
     "metadata": {},
     "output_type": "display_data"
    }
   ],
   "source": [
    "ds = ds.filter(lambda x: is_probably_english(' '.join(x['tokenized_text'])))"
   ]
  },
  {
   "cell_type": "code",
   "execution_count": 11,
   "metadata": {},
   "outputs": [],
   "source": [
    "# Load span-based NER JSON into Hugging Face Dataset\n",
    "# Original JSON format:\n",
    "# {\n",
    "#   \"tokens\": [...],\n",
    "#   \"ner\": [[start_idx, end_idx, label], ...]\n",
    "# }\n",
    "\n",
    "# Step 1: Normalize each NER span into a dict for clarity and compatibility\n",
    "# → [start, end, label] → {\"start\": ..., \"end\": ..., \"label\": ...}\n",
    "\n",
    "# Step 2: Define Hugging Face `Features` schema with nested structure\n",
    "# → tokens: list of strings\n",
    "# → ner: list of {\"start\": int, \"end\": int, \"label\": str}\n",
    "\n",
    "# Step 3: Use `Dataset.from_list(data, features=features)` to load it cleanly"
   ]
  },
  {
   "cell_type": "markdown",
   "metadata": {},
   "source": [
    "Let's see what unique entities we have"
   ]
  },
  {
   "cell_type": "code",
   "execution_count": 12,
   "metadata": {},
   "outputs": [
    {
     "name": "stdout",
     "output_type": "stream",
     "text": [
      "CPU times: user 687 ms, sys: 0 ns, total: 687 ms\n",
      "Wall time: 686 ms\n"
     ]
    }
   ],
   "source": [
    "%%time\n",
    "unique_ents = list(set(label for sample in ds for label in sample['ner']['label']))"
   ]
  },
  {
   "cell_type": "code",
   "execution_count": 13,
   "metadata": {},
   "outputs": [
    {
     "data": {
      "text/plain": [
       "1747"
      ]
     },
     "execution_count": 13,
     "metadata": {},
     "output_type": "execute_result"
    }
   ],
   "source": [
    "len(unique_ents)"
   ]
  },
  {
   "cell_type": "code",
   "execution_count": 14,
   "metadata": {},
   "outputs": [
    {
     "data": {
      "text/plain": [
       "['dna pattern', 'person_name', 'utility account number']"
      ]
     },
     "execution_count": 14,
     "metadata": {},
     "output_type": "execute_result"
    }
   ],
   "source": [
    "unique_ents[:3]"
   ]
  },
  {
   "cell_type": "markdown",
   "metadata": {},
   "source": [
    "**Accessing ents faster via indexing**: Can we do faster?"
   ]
  },
  {
   "cell_type": "markdown",
   "metadata": {},
   "source": [
    "indexing?"
   ]
  },
  {
   "cell_type": "code",
   "execution_count": 15,
   "metadata": {},
   "outputs": [],
   "source": [
    "from collections import defaultdict"
   ]
  },
  {
   "cell_type": "code",
   "execution_count": 16,
   "metadata": {},
   "outputs": [],
   "source": [
    "ent_idx = defaultdict(list)"
   ]
  },
  {
   "cell_type": "code",
   "execution_count": 17,
   "metadata": {},
   "outputs": [
    {
     "data": {
      "text/plain": [
       "['person', 'nightclub', 'ID card number', 'credit card number']"
      ]
     },
     "execution_count": 17,
     "metadata": {},
     "output_type": "execute_result"
    }
   ],
   "source": [
    "ds[0]['ner']['label']"
   ]
  },
  {
   "cell_type": "code",
   "execution_count": 18,
   "metadata": {},
   "outputs": [
    {
     "name": "stdout",
     "output_type": "stream",
     "text": [
      "CPU times: user 707 ms, sys: 3.98 ms, total: 711 ms\n",
      "Wall time: 709 ms\n"
     ]
    }
   ],
   "source": [
    "%%time\n",
    "for idx, s in enumerate(ds):\n",
    "    for ent in s['ner']['label']: ent_idx[ent].append(idx)"
   ]
  },
  {
   "cell_type": "markdown",
   "metadata": {},
   "source": [
    "Let's see how many example we have of `identifier`"
   ]
  },
  {
   "cell_type": "code",
   "execution_count": 19,
   "metadata": {},
   "outputs": [
    {
     "name": "stdout",
     "output_type": "stream",
     "text": [
      "{'tokenized_text': ['The', 'Ministry', 'of', 'Health', 'and', 'Population', 'in', 'Antananarivo', 'has', 'released', 'a', 'new', 'policy', 'regarding', 'the', 'collection', 'and', 'management', 'of', 'medical', 'records', '.', 'All', 'citizens', 'are', 'required', 'to', 'submit', 'their', 'personal', 'information', ',', 'including', 'name', ',', 'date', 'of', 'birth', ',', 'and', 'Social', 'Security', 'Number', ',', 'to', 'their', 'local', 'health', 'center', 'for', 'the', 'creation', 'of', 'an', 'electronic', 'medical', 'record', '.', 'Patients', 'can', 'access', 'their', 'records', 'using', 'a', 'unique', 'identifier', ',', 'which', 'is', 'a', 'combination', 'of', 'their', 'first', 'five', 'letters', 'of', 'their', 'last', 'name', 'and', 'the', 'last', 'four', 'digits', 'of', 'their', 'Social', 'Security', 'Number', '.', 'For', 'instance', ',', 'a', 'patient', 'named', 'Rasoanaivo', ',', 'born', 'on', '15th', 'October', '1985', ',', 'with', 'SSN', '501-02-1234', ',', 'will', 'have', 'the', 'identifier', 'RASOAN5123', '.'], 'ner': {'start': [33, 80, 35, 40, 88, 46, 98, 102, 108, 114], 'end': [33, 80, 37, 42, 90, 48, 98, 104, 108, 114], 'label': ['attribute', 'attribute', 'attribute', 'PII', 'PII', 'organization', 'person', 'date of birth', 'social security number', 'identifier']}}\n",
      "{'tokenized_text': ['The', \"'\", 'Belgian', 'Red', 'Cross', \"'\", 'organization', ',', 'based', 'in', 'Brussels', ',', 'is', 'organizing', 'a', 'charity', 'event', 'at', 'the', 'Palais', 'des', 'Beaux-Arts', '.', 'The', 'event', ',', 'called', \"'\", 'Solidarity', 'Night', \"'\", ',', 'aims', 'to', 'raise', 'funds', 'for', 'underprivileged', 'children', 'in', 'the', 'Congo', '.', 'Participants', 'are', 'requested', 'to', 'register', 'online', 'using', 'their', 'full', 'name', ',', 'date', 'of', 'birth', ',', 'and', 'email', 'address', '.', 'The', 'registration', 'fee', 'is', '€', '50', 'per', 'person', 'and', 'can', 'be', 'paid', 'using', 'a', 'credit', 'card', '.', 'The', 'event', 'details', 'are', ':', 'date', ':', '15th', 'May', '2023', ',', 'start', 'time', ':', '19', ':', '00', ',', 'and', 'end', 'time', ':', '23', ':', '00', '.', 'Attendees', 'will', 'receive', 'a', 'confirmation', 'email', 'with', 'their', 'ticket', 'number', 'and', 'a', 'QR', 'code', 'for', 'entry', '.'], 'ner': {'start': [2, 19, 86, 93, 101, 51, 54, 59, 110, 66, 76, 113, 117], 'end': [4, 21, 88, 95, 103, 52, 56, 59, 110, 67, 77, 114, 118], 'label': ['organization', 'venue', 'date', 'start time', 'end time', 'name', 'date of birth', 'email', 'email', 'monetary amount', 'payment method', 'identifier', 'identifier']}}\n",
      "{'tokenized_text': ['The', \"'\", 'Belgian', 'Red', 'Cross', \"'\", 'organization', ',', 'based', 'in', 'Brussels', ',', 'is', 'organizing', 'a', 'charity', 'event', 'at', 'the', 'Palais', 'des', 'Beaux-Arts', '.', 'The', 'event', ',', 'called', \"'\", 'Solidarity', 'Night', \"'\", ',', 'aims', 'to', 'raise', 'funds', 'for', 'underprivileged', 'children', 'in', 'the', 'Congo', '.', 'Participants', 'are', 'requested', 'to', 'register', 'online', 'using', 'their', 'full', 'name', ',', 'date', 'of', 'birth', ',', 'and', 'email', 'address', '.', 'The', 'registration', 'fee', 'is', '€', '50', 'per', 'person', 'and', 'can', 'be', 'paid', 'using', 'a', 'credit', 'card', '.', 'The', 'event', 'details', 'are', ':', 'date', ':', '15th', 'May', '2023', ',', 'start', 'time', ':', '19', ':', '00', ',', 'and', 'end', 'time', ':', '23', ':', '00', '.', 'Attendees', 'will', 'receive', 'a', 'confirmation', 'email', 'with', 'their', 'ticket', 'number', 'and', 'a', 'QR', 'code', 'for', 'entry', '.'], 'ner': {'start': [2, 19, 86, 93, 101, 51, 54, 59, 110, 66, 76, 113, 117], 'end': [4, 21, 88, 95, 103, 52, 56, 59, 110, 67, 77, 114, 118], 'label': ['organization', 'venue', 'date', 'start time', 'end time', 'name', 'date of birth', 'email', 'email', 'monetary amount', 'payment method', 'identifier', 'identifier']}}\n",
      "{'tokenized_text': ['At', 'the', 'city', 'hall', 'meeting', ',', 'the', 'mayor', 'of', 'Kuwait', 'City', ',', 'Ali', 'Al-Fahad', ',', 'presented', 'a', 'new', 'urban', 'development', 'plan', '.', 'He', 'shared', 'that', 'the', 'city', 'will', 'expand', 'towards', 'the', 'north', ',', 'and', 'the', 'new', 'neighborhood', ',', 'Al-Sabah', ',', 'will', 'have', '10', ',', '000', 'housing', 'units', '.', 'He', 'also', 'mentioned', 'that', 'the', 'city', 'council', 'has', 'approved', 'the', 'construction', 'of', 'a', 'new', 'hospital', ',', 'Al-Sabah', 'Medical', 'Center', ',', 'with', '300', 'beds', 'and', 'a', 'helipad', 'for', 'emergency', 'cases', '.', 'The', 'mayor', 'then', 'announced', 'that', 'all', 'residents', 'in', 'the', 'city', 'will', 'receive', 'a', 'new', 'ID', 'card', ',', 'which', 'will', 'include', 'their', 'personal', 'details', 'like', 'name', ',', 'address', ',', 'and', 'phone', 'number', '.', 'The', 'card', 'will', 'also', 'have', 'a', 'unique', 'identifier', ',', 'the', 'Kuwait', 'City', 'ID', 'Number', ',', 'which', 'will', 'be', 'used', 'for', 'various', 'services', 'like', 'tax', 'payments', 'and', 'library', 'memberships', '.', 'The', 'mayor', 'also', 'emphasized', 'the', 'importance', 'of', 'protecting', 'personal', 'information', 'and', 'reminded', 'everyone', 'to', 'keep', 'their', 'ID', 'cards', 'secure', '.'], 'ner': {'start': [12, 9, 120, 38, 64, 42, 64, 69, 73, 83, 91, 99, 102, 120], 'end': [13, 10, 121, 38, 64, 46, 66, 70, 73, 87, 93, 100, 108, 123], 'label': ['person', 'location', 'location', 'neighborhood', 'neighborhood', 'quantity', 'organization', 'quantity', 'facility', 'group', 'document', 'information', 'personal information', 'identifier']}}\n",
      "{'tokenized_text': ['The', 'ancient', 'temple', 'of', 'Andohalo', 'in', 'Antananarivo', ',', 'Madagascar', ',', 'is', 'known', 'for', 'its', 'beautiful', 'stone', 'carvings', 'and', 'historical', 'significance', '.', 'It', 'is', 'open', 'to', 'visitors', 'daily', 'from', '9', 'AM', 'to', '5', 'PM', '.', 'To', 'enter', 'the', 'temple', ',', 'visitors', 'must', 'provide', 'a', 'valid', 'photo', 'ID', ',', 'such', 'as', 'a', 'passport', 'or', 'driver', \"'\", 's', 'license', ',', 'and', 'pay', 'the', 'entrance', 'fee', 'of', '5000', 'Ariary', '.', 'The', 'temple', 'management', 'keeps', 'a', 'record', 'of', 'visitors', \"'\", 'information', 'for', 'security', 'purposes', '.'], 'ner': {'start': [0, 6, 28, 44, 50, 63, 73], 'end': [4, 8, 32, 45, 55, 64, 75], 'label': ['organization', 'location', 'time frame', 'identifier', 'document', 'currency amount', 'data record']}}\n",
      "{'tokenized_text': ['The', 'Human', 'Resources', 'department', 'of', 'Bhutan', 'Broadcasting', 'Service', 'has', 'released', 'the', 'following', 'employee', 'records', 'for', 'the', 'year', '2022', ':', 'Employee', 'ID', '|', 'Name', '|', 'Position', '|', 'Date', 'of', 'Birth', '|', 'Social', 'Security', 'Number', '|', 'Salary', '-', '-', '-', '-', '-', '-', '-', '-', '-', '-', '-', '-', '-', '-', '-', '-', '-', '-', '-', '-', '-', '-', '-', '-', '-', '-', '-', '-', '-', '-', '-', '-', '-', '-', '-', '-', '-', '-', '-', '-', '-', '-', '-', '-', '-', '-', '-', '-', '-', '-', '-', '-', '-', '-', '-', '-', '-', '-', '-', '-', '-', '-', '-', '-', '-', '-', '-', '-', '-', '-', '-', '-', '-', '-', '-', '-', '-', '-', '-', '-', '-', '-', '-', '-', '-', '-', '-', '-', '-', '-', '-', '-', '-', '-', '-', '-', '-', '-', '-', '-', '-', '-', '-', '-', '-', '-', '-', '-', '-', '-', '-', '-', '-', '-', '-', '101', '|', 'Tenzin', 'Wangchuk', '|', 'Software', 'Engineer', '|', '1992-03-25', '|', '123-45-6789', '|', '50000', '202', '|', 'Sonam', 'Tenzin', '|', 'Data', 'Analyst', '|', '1988-11-07', '|', '987-65-4321', '|', '60000', '303', '|', 'Dorji', 'Wangchuk', '|', 'Marketing', 'Manager', '|', '1995-08-19', '|', '555-12-3456', '|', '75000'], 'ner': {'start': [1, 5, 19, 152, 155, 158, 160, 162, 165, 168, 171, 173, 175, 178, 181, 184, 186, 188], 'end': [7, 7, 20, 153, 156, 158, 160, 162, 166, 169, 171, 173, 175, 179, 182, 184, 186, 188], 'label': ['organization', 'organization', 'identifier', 'person', 'job title', 'date of birth', 'social security number', 'salary', 'person', 'job title', 'date of birth', 'social security number', 'salary', 'person', 'job title', 'date of birth', 'social security number', 'salary']}}\n"
     ]
    },
    {
     "data": {
      "text/plain": [
       "[None, None, None, None, None, None]"
      ]
     },
     "execution_count": 19,
     "metadata": {},
     "output_type": "execute_result"
    }
   ],
   "source": [
    "[print(ds[i]) for i in ent_idx['identifier']]"
   ]
  },
  {
   "cell_type": "markdown",
   "metadata": {},
   "source": [
    "Okay, only 10, that's weak and odd"
   ]
  },
  {
   "cell_type": "code",
   "execution_count": 20,
   "metadata": {},
   "outputs": [],
   "source": [
    "def find_matching_ents(query, all_ents=unique_ents, case_insensitive=True):\n",
    "    q = query.lower() if case_insensitive else query\n",
    "    return [e for e in all_ents if q in (e.lower() if case_insensitive else e)]"
   ]
  },
  {
   "cell_type": "code",
   "execution_count": 61,
   "metadata": {},
   "outputs": [
    {
     "data": {
      "text/plain": [
       "['financial record',\n",
       " 'financial_institution',\n",
       " 'financial aid',\n",
       " 'financial institution',\n",
       " 'financial information']"
      ]
     },
     "execution_count": 61,
     "metadata": {},
     "output_type": "execute_result"
    }
   ],
   "source": [
    "find_matching_ents(\"financial\", unique_ents)"
   ]
  },
  {
   "cell_type": "markdown",
   "metadata": {},
   "source": [
    "That's more like it!"
   ]
  },
  {
   "cell_type": "code",
   "execution_count": 22,
   "metadata": {},
   "outputs": [],
   "source": [
    "import random"
   ]
  },
  {
   "cell_type": "code",
   "execution_count": 23,
   "metadata": {},
   "outputs": [],
   "source": [
    "matching_idxs = []"
   ]
  },
  {
   "cell_type": "code",
   "execution_count": 24,
   "metadata": {},
   "outputs": [
    {
     "data": {
      "text/plain": [
       "[433, 1337, 1337, 1568, 1796, 3069]"
      ]
     },
     "execution_count": 24,
     "metadata": {},
     "output_type": "execute_result"
    }
   ],
   "source": [
    "ent_idx['identifier']"
   ]
  },
  {
   "cell_type": "code",
   "execution_count": 44,
   "metadata": {},
   "outputs": [],
   "source": [
    "def get_random_sample_for_ent(ent, ds, ent_idx, unique_ents):\n",
    "    matching_idxs = []\n",
    "    matches = find_matching_ents(ent, unique_ents)\n",
    "    if not matches: return None\n",
    "    # print(\"Matches:\", matches)\n",
    "    matching_idxs = [idx for a in matches for idx in ent_idx[a]]\n",
    "    # print(\"Matching Idxs:\", matching_idxs)\n",
    "    idx = random.choice(matching_idxs)\n",
    "    print(\"idx\",idx)\n",
    "    return ' '.join(ds[idx]['tokenized_text'])"
   ]
  },
  {
   "cell_type": "code",
   "execution_count": 45,
   "metadata": {},
   "outputs": [
    {
     "name": "stdout",
     "output_type": "stream",
     "text": [
      "idx 1322\n"
     ]
    },
    {
     "data": {
      "text/plain": [
       "'Imam Muhammad Al-Hanafi , a religious leader at Masjid Agung Nusantara , Jakarta , Indonesia , has been diagnosed with a heart condition and has been prescribed medication for his treatment . His medical records state that he was born on February 21 , 1972 , and his Social Security Number is 410-11-1234 . He has provided the following details for insurance purposes : Health Insurance ID Number : 123456789 , IP Address : 192 . 168 . 1 . 1 , and Biometric Identifier : Fingerprint Scan - Right Hand . He can be contacted via email at imam . alhanafi @ masjidagungnusantara . id and via phone number + 62 21 345 6789 .'"
      ]
     },
     "execution_count": 45,
     "metadata": {},
     "output_type": "execute_result"
    }
   ],
   "source": [
    "f = get_random_sample_for_ent('identifier', ds, ent_idx, unique_ents) ; f"
   ]
  },
  {
   "cell_type": "code",
   "execution_count": 56,
   "metadata": {},
   "outputs": [],
   "source": [
    "def create_prompt(phi_label: str, report_type: str, inspiration: str) -> str:\n",
    "    return f\"\"\"Generate a single, realistic sentence from a de-identified clinical report.\n",
    "\n",
    "Instructions:\n",
    "1. The sentence must include exactly one PHI placeholder of the following type: <{phi_label}>.\n",
    "2. The sentence should be medically plausible and thematically related to: \"{inspiration}\".\n",
    "3. Do not include any other PHI placeholders.\n",
    "4. Do not use real personal information — only placeholders.\n",
    "5. Avoid generic phrasing. Keep it natural and contextual.\n",
    "\n",
    "Report type: {report_type}\n",
    "\n",
    "Output:\n",
    "{{\n",
    "  \"text\": \"The patient's insurance number <{phi_label}> was used to process the radiology claim.\",\n",
    "  \"labels\": [[\"<{phi_label}>\", \"{phi_label}\"]]\n",
    "}}\"\"\"\n"
   ]
  },
  {
   "cell_type": "code",
   "execution_count": 81,
   "metadata": {},
   "outputs": [],
   "source": [
    "import random\n",
    "from pathlib import Path\n",
    "\n",
    "class ReportTypes:\n",
    "    \"Clinical report templates and single-snippet sampler.\"\n",
    "\n",
    "    SNIPPETS = {\n",
    "        \"Radiology\": [\n",
    "            \"PATIENT NAME: <Name>\",\n",
    "            \"ID NUMBER: <Identifier>\",\n",
    "            \"REFERRING PHYSICIAN: <Name>\",\n",
    "            \"DATE OF SERVICE: <Date>\",\n",
    "            \"EXAM: CT Abdomen and Pelvis with contrast\",\n",
    "            \"INDICATION: Abdominal pain\",\n",
    "            \"TECHNIQUE: Axial images obtained with IV contrast\",\n",
    "            \"FINDINGS:\",\n",
    "            \"IMPRESSION: No acute intra-abdominal findings.\"\n",
    "        ],\n",
    "        \"Discharge Summary\": [\n",
    "            \"RE: <Name>\",\n",
    "            \"DATE: <Date>\",\n",
    "            \"MR: <Identifier>\",\n",
    "            \"DOB: <Date>\",\n",
    "            \"DATE OF ADMISSION: <Date>\",\n",
    "            \"DATE OF DISCHARGE: <Date>\",\n",
    "            \"DISCHARGE DIAGNOSIS:\\n  - Hypertension\\n  - Acute kidney injury\",\n",
    "            \"DISCHARGE INSTRUCTIONS: Resume home medications and follow up with nephrology in 1 week.\"\n",
    "        ],\n",
    "        \"Pathology\": [\n",
    "            \"SPECIMEN: Left breast biopsy\",\n",
    "            \"CLINICAL HISTORY: 3 cm mass in left breast on mammogram\",\n",
    "            \"DIAGNOSIS:\\n  Invasive ductal carcinoma, grade 2 of 3\"\n",
    "        ],\n",
    "        \"Referral Note\": [\n",
    "            \"REASON FOR REFERRAL: Neurology consultation for evaluation of seizure\",\n",
    "            \"REFERRED BY: <Name>\",\n",
    "            \"HISTORY OF PRESENT ILLNESS:\\n  <Name> is a 59-year-old, right-handed woman with a history of hypertension and recent onset seizures.\",\n",
    "            \"PLAN: EEG, MRI brain, start levetiracetam\"\n",
    "        ]\n",
    "    }\n",
    "\n",
    "    @classmethod\n",
    "    def random_snippet(cls) -> str:\n",
    "        \"Return a single random snippet from any report type.\"\n",
    "        report_type = random.choice(list(cls.SNIPPETS.keys()))\n",
    "        return random.choice(cls.SNIPPETS[report_type])"
   ]
  },
  {
   "cell_type": "code",
   "execution_count": 83,
   "metadata": {},
   "outputs": [
    {
     "name": "stdout",
     "output_type": "stream",
     "text": [
      "REFERRING PHYSICIAN: <Name>\n",
      "idx 1610\n",
      "On March 12 , 2023 , Ahmed Bouhafs from Algiers initiated a wire transfer of $ 50 , 000 from his Citibank account ( account number : 123456789 ) to his wife ' s account at Wells Fargo ( account number : 234567890 ) . He used the routing numbers 021000021 and 121000024 for Citibank and Wells Fargo , respectively . The transaction was confirmed with a One-Time Password ( OTP ) sent to his mobile number + 1 234 567 8901 .\n"
     ]
    }
   ],
   "source": [
    "q = 'financial' \n",
    "rt = ReportTypes.random_snippet() ; print(rt)\n",
    "f = get_random_sample_for_ent('financial', ds, ent_idx, unique_ents); print(f)"
   ]
  },
  {
   "cell_type": "code",
   "execution_count": 85,
   "metadata": {},
   "outputs": [],
   "source": [
    "# create_prompt(q, rt, f, PHI)"
   ]
  },
  {
   "cell_type": "code",
   "execution_count": 86,
   "metadata": {},
   "outputs": [
    {
     "data": {
      "text/plain": [
       "{'text': 'A billing review noted that payment for the cardiac procedure was completed using the patient’s wire transfer ID <financial>.',\n",
       " 'labels': [['<financial>', 'financial']]}"
      ]
     },
     "execution_count": 86,
     "metadata": {},
     "output_type": "execute_result"
    }
   ],
   "source": [
    "{\n",
    "  \"text\": \"A billing review noted that payment for the cardiac procedure was completed using the patient’s wire transfer ID <financial>.\",\n",
    "  \"labels\": [[\"<financial>\", \"financial\"]]\n",
    "}\n"
   ]
  },
  {
   "cell_type": "markdown",
   "metadata": {},
   "source": [
    "Okay, not bad. Two things. I'd like to add some context around what is 'financial' data. Can we get formats or report Types rather than just names? Archita has a resource we can take advantage of."
   ]
  },
  {
   "cell_type": "code",
   "execution_count": 87,
   "metadata": {},
   "outputs": [],
   "source": [
    "PHI_HINTS = {\n",
    "    \"financial\":        \"Account numbers or billing IDs, possibly insurance-related.\",\n",
    "    \"patient_demo\":     \"Patient's date of birth.\",\n",
    "    \"practitioner\":     \"Full name of the treating clinician.\",\n",
    "    \"professional\":     \"Initials of the treating clinician.\",\n",
    "    \"patient_location\": \"Residential or hospital-provided address, including postal codes and provinces.\",\n",
    "    \"name\":             \"Full name of the patient.\",\n",
    "    \"encounter_date\":   \"Timestamp of a clinical encounter, e.g. 2015-10-13T11:01:00-05:00.\",\n",
    "    \"patient_contact\":  \"Phone numbers, but may include addresses or physical contact information.\",\n",
    "    \"patient_id\":       \"Identifiers like OHIP numbers, MRNs, JHN IDs, or CMRs.\",\n",
    "    \"organization\":     \"Hospital departments, wings, or named units.\"\n",
    "}"
   ]
  },
  {
   "cell_type": "code",
   "execution_count": 88,
   "metadata": {},
   "outputs": [
    {
     "data": {
      "text/plain": [
       "'Account numbers or billing IDs, possibly insurance-related.'"
      ]
     },
     "execution_count": 88,
     "metadata": {},
     "output_type": "execute_result"
    }
   ],
   "source": [
    "PHI_HINTS.get('financial')"
   ]
  },
  {
   "cell_type": "code",
   "execution_count": 89,
   "metadata": {},
   "outputs": [],
   "source": [
    "def create_prompt(phi_label: str, report_type: str, inspiration: str, phi_hints: dict) -> str:\n",
    "    hint = phi_hints.get(phi_label, \"\")\n",
    "    return f\"\"\"Generate a single, realistic sentence from a de-identified clinical report.\n",
    "\n",
    "Instructions:\n",
    "1. The sentence must include exactly one PHI placeholder of the following type: <{phi_label}>.\n",
    "2. The placeholder represents: {hint}\n",
    "3. The sentence should be medically plausible and thematically related to: \"{inspiration}\".\n",
    "4. Do not include any other PHI placeholders.\n",
    "5. Do not use real personal information — only placeholders.\n",
    "6. Avoid generic phrasing. Keep it natural and contextual.\n",
    "\n",
    "Report type: {report_type}\n",
    "\n",
    "Output:\n",
    "[\n",
    "  {{\n",
    "    \"text\": \"Patient <Name> was seen for follow-up.\",\n",
    "    \"labels\": [[\"<Name>\", \"Name\"]]\n",
    "  }},\n",
    "  {{\n",
    "    \"text\": \"The appointment was scheduled for <Date>.\",\n",
    "    \"labels\": [[\"<Date>\", \"Date\"]]\n",
    "  }},\n",
    "  {{\n",
    "    \"text\": \"The CT scan was reviewed at <Hospital>.\",\n",
    "    \"labels\": [[\"<Hospital>\", \"Hospital\"]]\n",
    "  }},\n",
    "  {{\n",
    "    \"text\": \"Results were mailed to <Location>.\",\n",
    "    \"labels\": [[\"<Location>\", \"Location\"]]\n",
    "  }},\n",
    "  {{\n",
    "    \"text\": \"Billing was completed using ID <Identifier>.\",\n",
    "    \"labels\": [[\"<Identifier>\", \"Identifier\"]]\n",
    "  }},\n",
    "  {{\n",
    "    \"text\": \"Please confirm via <Contact> before arrival.\",\n",
    "    \"labels\": [[\"<Contact>\", \"Contact\"]]\n",
    "  }}\n",
    "]\"\"\"\n"
   ]
  },
  {
   "cell_type": "code",
   "execution_count": 94,
   "metadata": {},
   "outputs": [
    {
     "name": "stdout",
     "output_type": "stream",
     "text": [
      "DIAGNOSIS:\n",
      "  Invasive ductal carcinoma, grade 2 of 3\n",
      "idx 1893\n",
      "At the sunny beach of Stavanger , Anne Kristin Olsen from Oslo was sunbathing with her friends . She was sipping on her piña colada , while her children played nearby in the sand . Suddenly , Anne Kristin felt unwell and had to be taken to the hospital . Her medical records revealed that she had a rare heart condition . The doctors asked for her personal information to provide her with the best possible care . Anne Kristin provided her passport number XY765238 , her driver ' s license number AB123456 , and her health insurance ID number NO987654 . The hospital staff also took her fingerprints and asked for her IP address to ensure proper identification and treatment .\n"
     ]
    }
   ],
   "source": [
    "q = 'identifier' \n",
    "rt = ReportTypes.random_snippet() ; print(rt)\n",
    "f = get_random_sample_for_ent('identifier', ds, ent_idx, unique_ents); print(f)"
   ]
  },
  {
   "cell_type": "code",
   "execution_count": 95,
   "metadata": {},
   "outputs": [
    {
     "data": {
      "text/plain": [
       "'Generate a single, realistic sentence from a de-identified clinical report.\\n\\nInstructions:\\n1. The sentence must include exactly one PHI placeholder of the following type: <identifier>.\\n2. The placeholder represents: \\n3. The sentence should be medically plausible and thematically related to: \"At the sunny beach of Stavanger , Anne Kristin Olsen from Oslo was sunbathing with her friends . She was sipping on her piña colada , while her children played nearby in the sand . Suddenly , Anne Kristin felt unwell and had to be taken to the hospital . Her medical records revealed that she had a rare heart condition . The doctors asked for her personal information to provide her with the best possible care . Anne Kristin provided her passport number XY765238 , her driver \\' s license number AB123456 , and her health insurance ID number NO987654 . The hospital staff also took her fingerprints and asked for her IP address to ensure proper identification and treatment .\".\\n4. Do not include any other PHI placeholders.\\n5. Do not use real personal information — only placeholders.\\n6. Avoid generic phrasing. Keep it natural and contextual.\\n\\nReport type: DIAGNOSIS:\\n  Invasive ductal carcinoma, grade 2 of 3\\n\\nOutput:\\n[\\n  {\\n    \"text\": \"Patient <Name> was seen for follow-up.\",\\n    \"labels\": [[\"<Name>\", \"Name\"]]\\n  },\\n  {\\n    \"text\": \"The appointment was scheduled for <Date>.\",\\n    \"labels\": [[\"<Date>\", \"Date\"]]\\n  },\\n  {\\n    \"text\": \"The CT scan was reviewed at <Hospital>.\",\\n    \"labels\": [[\"<Hospital>\", \"Hospital\"]]\\n  },\\n  {\\n    \"text\": \"Results were mailed to <Location>.\",\\n    \"labels\": [[\"<Location>\", \"Location\"]]\\n  },\\n  {\\n    \"text\": \"Billing was completed using ID <Identifier>.\",\\n    \"labels\": [[\"<Identifier>\", \"Identifier\"]]\\n  },\\n  {\\n    \"text\": \"Please confirm via <Contact> before arrival.\",\\n    \"labels\": [[\"<Contact>\", \"Contact\"]]\\n  }\\n]'"
      ]
     },
     "execution_count": 95,
     "metadata": {},
     "output_type": "execute_result"
    }
   ],
   "source": [
    "create_prompt(q, rt, f, PHI_HINTS)"
   ]
  },
  {
   "cell_type": "markdown",
   "metadata": {},
   "source": [
    "## Nursing Notes; see Archita's suggestion + other notes"
   ]
  },
  {
   "cell_type": "markdown",
   "metadata": {},
   "source": [
    "TBD"
   ]
  }
 ],
 "metadata": {
  "language_info": {
   "name": "python"
  }
 },
 "nbformat": 4,
 "nbformat_minor": 2
}
